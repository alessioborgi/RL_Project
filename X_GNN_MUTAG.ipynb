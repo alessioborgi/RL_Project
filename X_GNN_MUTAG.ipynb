{
  "nbformat": 4,
  "nbformat_minor": 0,
  "metadata": {
    "colab": {
      "provenance": [],
      "collapsed_sections": [
        "2WbgJ3vqr0TE"
      ],
      "gpuType": "T4",
      "include_colab_link": true
    },
    "kernelspec": {
      "name": "python3",
      "display_name": "Python 3"
    },
    "language_info": {
      "name": "python"
    },
    "accelerator": "GPU"
  },
  "cells": [
    {
      "cell_type": "markdown",
      "metadata": {
        "id": "view-in-github",
        "colab_type": "text"
      },
      "source": [
        "<a href=\"https://colab.research.google.com/github/alessioborgi/RL_Project/blob/main/X_GNN_MUTAG.ipynb\" target=\"_parent\"><img src=\"https://colab.research.google.com/assets/colab-badge.svg\" alt=\"Open In Colab\"/></a>"
      ]
    },
    {
      "cell_type": "markdown",
      "source": [
        "# X-GNN: Model-Explanations of GNNs using RL\n",
        "\n",
        "### *Alessio Borgi*\n",
        "### *Francesco Danese*"
      ],
      "metadata": {
        "id": "JUUvLA8lri-u"
      }
    },
    {
      "cell_type": "markdown",
      "source": [
        "### 0: INSTALLING & IMPORTING LIBRARIES"
      ],
      "metadata": {
        "id": "2WbgJ3vqr0TE"
      }
    },
    {
      "cell_type": "code",
      "source": [
        "!pip install torch_geometric networkx matplotlib"
      ],
      "metadata": {
        "colab": {
          "base_uri": "https://localhost:8080/"
        },
        "id": "DE7aTsSLrdMk",
        "outputId": "32efedda-b7b5-4dc4-f3d5-4d7373461388"
      },
      "execution_count": 11,
      "outputs": [
        {
          "output_type": "stream",
          "name": "stdout",
          "text": [
            "Requirement already satisfied: torch_geometric in /usr/local/lib/python3.10/dist-packages (2.6.1)\n",
            "Requirement already satisfied: networkx in /usr/local/lib/python3.10/dist-packages (3.4.2)\n",
            "Requirement already satisfied: matplotlib in /usr/local/lib/python3.10/dist-packages (3.8.0)\n",
            "Requirement already satisfied: aiohttp in /usr/local/lib/python3.10/dist-packages (from torch_geometric) (3.11.2)\n",
            "Requirement already satisfied: fsspec in /usr/local/lib/python3.10/dist-packages (from torch_geometric) (2024.10.0)\n",
            "Requirement already satisfied: jinja2 in /usr/local/lib/python3.10/dist-packages (from torch_geometric) (3.1.4)\n",
            "Requirement already satisfied: numpy in /usr/local/lib/python3.10/dist-packages (from torch_geometric) (1.26.4)\n",
            "Requirement already satisfied: psutil>=5.8.0 in /usr/local/lib/python3.10/dist-packages (from torch_geometric) (5.9.5)\n",
            "Requirement already satisfied: pyparsing in /usr/local/lib/python3.10/dist-packages (from torch_geometric) (3.2.0)\n",
            "Requirement already satisfied: requests in /usr/local/lib/python3.10/dist-packages (from torch_geometric) (2.32.3)\n",
            "Requirement already satisfied: tqdm in /usr/local/lib/python3.10/dist-packages (from torch_geometric) (4.66.6)\n",
            "Requirement already satisfied: contourpy>=1.0.1 in /usr/local/lib/python3.10/dist-packages (from matplotlib) (1.3.1)\n",
            "Requirement already satisfied: cycler>=0.10 in /usr/local/lib/python3.10/dist-packages (from matplotlib) (0.12.1)\n",
            "Requirement already satisfied: fonttools>=4.22.0 in /usr/local/lib/python3.10/dist-packages (from matplotlib) (4.55.0)\n",
            "Requirement already satisfied: kiwisolver>=1.0.1 in /usr/local/lib/python3.10/dist-packages (from matplotlib) (1.4.7)\n",
            "Requirement already satisfied: packaging>=20.0 in /usr/local/lib/python3.10/dist-packages (from matplotlib) (24.2)\n",
            "Requirement already satisfied: pillow>=6.2.0 in /usr/local/lib/python3.10/dist-packages (from matplotlib) (11.0.0)\n",
            "Requirement already satisfied: python-dateutil>=2.7 in /usr/local/lib/python3.10/dist-packages (from matplotlib) (2.8.2)\n",
            "Requirement already satisfied: six>=1.5 in /usr/local/lib/python3.10/dist-packages (from python-dateutil>=2.7->matplotlib) (1.16.0)\n",
            "Requirement already satisfied: aiohappyeyeballs>=2.3.0 in /usr/local/lib/python3.10/dist-packages (from aiohttp->torch_geometric) (2.4.3)\n",
            "Requirement already satisfied: aiosignal>=1.1.2 in /usr/local/lib/python3.10/dist-packages (from aiohttp->torch_geometric) (1.3.1)\n",
            "Requirement already satisfied: attrs>=17.3.0 in /usr/local/lib/python3.10/dist-packages (from aiohttp->torch_geometric) (24.2.0)\n",
            "Requirement already satisfied: frozenlist>=1.1.1 in /usr/local/lib/python3.10/dist-packages (from aiohttp->torch_geometric) (1.5.0)\n",
            "Requirement already satisfied: multidict<7.0,>=4.5 in /usr/local/lib/python3.10/dist-packages (from aiohttp->torch_geometric) (6.1.0)\n",
            "Requirement already satisfied: propcache>=0.2.0 in /usr/local/lib/python3.10/dist-packages (from aiohttp->torch_geometric) (0.2.0)\n",
            "Requirement already satisfied: yarl<2.0,>=1.17.0 in /usr/local/lib/python3.10/dist-packages (from aiohttp->torch_geometric) (1.17.2)\n",
            "Requirement already satisfied: async-timeout<6.0,>=4.0 in /usr/local/lib/python3.10/dist-packages (from aiohttp->torch_geometric) (4.0.3)\n",
            "Requirement already satisfied: MarkupSafe>=2.0 in /usr/local/lib/python3.10/dist-packages (from jinja2->torch_geometric) (3.0.2)\n",
            "Requirement already satisfied: charset-normalizer<4,>=2 in /usr/local/lib/python3.10/dist-packages (from requests->torch_geometric) (3.4.0)\n",
            "Requirement already satisfied: idna<4,>=2.5 in /usr/local/lib/python3.10/dist-packages (from requests->torch_geometric) (3.10)\n",
            "Requirement already satisfied: urllib3<3,>=1.21.1 in /usr/local/lib/python3.10/dist-packages (from requests->torch_geometric) (2.2.3)\n",
            "Requirement already satisfied: certifi>=2017.4.17 in /usr/local/lib/python3.10/dist-packages (from requests->torch_geometric) (2024.8.30)\n",
            "Requirement already satisfied: typing-extensions>=4.1.0 in /usr/local/lib/python3.10/dist-packages (from multidict<7.0,>=4.5->aiohttp->torch_geometric) (4.12.2)\n"
          ]
        }
      ]
    },
    {
      "cell_type": "code",
      "source": [
        "import os\n",
        "import torch\n",
        "import random\n",
        "import numpy as np\n",
        "import pandas as pd\n",
        "import torch.nn as nn\n",
        "import networkx as nx\n",
        "from torch.nn import Linear\n",
        "import plotly.express as px\n",
        "import matplotlib.pyplot as plt\n",
        "import torch.nn.functional as F\n",
        "import plotly.graph_objects as go\n",
        "from torch_geometric.nn import MessagePassing\n",
        "from torch_geometric.loader import DataLoader\n",
        "from torch_geometric.utils import to_networkx"
      ],
      "metadata": {
        "id": "H6kL0ndKrzz3"
      },
      "execution_count": 12,
      "outputs": []
    },
    {
      "cell_type": "code",
      "source": [
        "'''# Ensures that dataset splitting, model initialization, and training are deterministic.\n",
        "def set_seed(seed):\n",
        "    torch.manual_seed(seed)  # Fix seed for PyTorch (CPU).\n",
        "    torch.cuda.manual_seed(seed)  # Fix seed for PyTorch (GPU).\n",
        "    torch.cuda.manual_seed_all(seed)  # Fix seed for all GPUs.\n",
        "    np.random.seed(seed)  # Fix seed for NumPy.\n",
        "    random.seed(seed)  # Fix seed for Python's random module.\n",
        "    torch.backends.cudnn.deterministic = True  # Ensure deterministic GPU behavior.\n",
        "    torch.backends.cudnn.benchmark = False  # Disable cuDNN auto-tuning to enforce determinism.\n",
        "\n",
        "set_seed(42)  # Set seed to ensure reproducibility across runs.\n",
        "'''"
      ],
      "metadata": {
        "id": "FV3Oe3Ogr6Gi",
        "colab": {
          "base_uri": "https://localhost:8080/",
          "height": 0
        },
        "outputId": "e3def995-fe32-4af3-f8d6-e3d3c845c6ef"
      },
      "execution_count": 13,
      "outputs": [
        {
          "output_type": "execute_result",
          "data": {
            "text/plain": [
              "\"# Ensures that dataset splitting, model initialization, and training are deterministic.\\ndef set_seed(seed):\\n    torch.manual_seed(seed)  # Fix seed for PyTorch (CPU).\\n    torch.cuda.manual_seed(seed)  # Fix seed for PyTorch (GPU).\\n    torch.cuda.manual_seed_all(seed)  # Fix seed for all GPUs.\\n    np.random.seed(seed)  # Fix seed for NumPy.\\n    random.seed(seed)  # Fix seed for Python's random module.\\n    torch.backends.cudnn.deterministic = True  # Ensure deterministic GPU behavior.\\n    torch.backends.cudnn.benchmark = False  # Disable cuDNN auto-tuning to enforce determinism.\\n\\nset_seed(42)  # Set seed to ensure reproducibility across runs.\\n\""
            ],
            "application/vnd.google.colaboratory.intrinsic+json": {
              "type": "string"
            }
          },
          "metadata": {},
          "execution_count": 13
        }
      ]
    },
    {
      "cell_type": "markdown",
      "source": [
        "### 1: DATASET EXPLORATION"
      ],
      "metadata": {
        "id": "tUwpo2PYr85a"
      }
    },
    {
      "cell_type": "code",
      "source": [
        "from torch_geometric.datasets import TUDataset\n",
        "# Load the MUTAG Dataset\n",
        "dataset = TUDataset(root='data/TUDataset', name='MUTAG')"
      ],
      "metadata": {
        "id": "KoK2Qv1wr_G8"
      },
      "execution_count": 14,
      "outputs": []
    },
    {
      "cell_type": "code",
      "source": [
        "import random\n",
        "import pandas as pd\n",
        "from torch_geometric.datasets import TUDataset\n",
        "\n",
        "# Load the MUTAG Dataset.\n",
        "dataset = TUDataset(root='data/TUDataset', name='MUTAG')\n",
        "\n",
        "# Initialize lists to collect dataset-wide statistics.\n",
        "num_nodes = []\n",
        "num_edges = []\n",
        "labels = []\n",
        "\n",
        "dataset_indices = list(range(len(dataset)))\n",
        "\n",
        "# Gather data about all graphs.\n",
        "for data in dataset:\n",
        "    num_nodes.append(data.num_nodes)\n",
        "    num_edges.append(data.num_edges)\n",
        "    labels.append(data.y.item())\n",
        "\n",
        "# Create a summary DataFrame.\n",
        "df = pd.DataFrame({\n",
        "    \"Graph ID\": dataset_indices,\n",
        "    \"Num Nodes\": num_nodes,\n",
        "    \"Num Edges\": num_edges,\n",
        "    \"Label\": labels\n",
        "})\n",
        "\n",
        "# Dataset Statistics.\n",
        "print()\n",
        "print(f'Dataset: {dataset}:')\n",
        "print('====================')\n",
        "print(f\"Number of Graphs: {len(dataset)}\")\n",
        "print(f\"Number of Classes: {dataset.num_classes}\")\n",
        "print(f\"Average Nodes per Graph: {sum(num_nodes)/len(num_nodes):.2f}\")\n",
        "print(f\"Average Edges per Graph: {sum(num_edges)/len(num_edges):.2f}\")\n",
        "print(\"Class Distribution:\")\n",
        "print(df['Label'].value_counts())\n",
        "\n",
        "'''\n",
        "# Separate the indices for each class.\n",
        "class_0_indices = df[df['Label'] == 0]['Graph ID'].tolist()\n",
        "class_1_indices = df[df['Label'] == 1]['Graph ID'].tolist()\n",
        "\n",
        "# Downsample class 1 to match class 0.\n",
        "random.seed(42)  # For reproducibility\n",
        "balanced_class_1_indices = random.sample(class_1_indices, len(class_0_indices))\n",
        "\n",
        "# Combine the downsampled class 1 indices with class 0 indices.\n",
        "balanced_indices = class_0_indices + balanced_class_1_indices\n",
        "\n",
        "# Update the dataset in place with the balanced indices.\n",
        "dataset = [dataset[i] for i in balanced_indices]\n",
        "\n",
        "# Update the DataFrame with the new dataset statistics.\n",
        "updated_num_nodes = [dataset[i].num_nodes for i in range(len(dataset))]\n",
        "updated_num_edges = [dataset[i].num_edges for i in range(len(dataset))]\n",
        "updated_labels = [dataset[i].y.item() for i in range(len(dataset))]\n",
        "\n",
        "# Create the updated DataFrame.\n",
        "df = pd.DataFrame({\n",
        "    \"Graph ID\": range(len(dataset)),\n",
        "    \"Num Nodes\": updated_num_nodes,\n",
        "    \"Num Edges\": updated_num_edges,\n",
        "    \"Label\": updated_labels\n",
        "})\n",
        "\n",
        "# Updated dataset statistics.\n",
        "print(\"\\nUpdated Dataset Statistics:\")\n",
        "print('============================')\n",
        "print(f\"Number of Graphs: {len(dataset)}\")\n",
        "print(\"Class Distribution:\")\n",
        "print(df['Label'].value_counts())\n",
        "'''"
      ],
      "metadata": {
        "colab": {
          "base_uri": "https://localhost:8080/",
          "height": 339
        },
        "id": "TjM6AWy2sBux",
        "outputId": "d81db708-4602-43b8-e5a1-df1a997e3a44"
      },
      "execution_count": 15,
      "outputs": [
        {
          "output_type": "stream",
          "name": "stdout",
          "text": [
            "\n",
            "Dataset: MUTAG(188):\n",
            "====================\n",
            "Number of Graphs: 188\n",
            "Number of Classes: 2\n",
            "Average Nodes per Graph: 17.93\n",
            "Average Edges per Graph: 39.59\n",
            "Class Distribution:\n",
            "Label\n",
            "1    125\n",
            "0     63\n",
            "Name: count, dtype: int64\n"
          ]
        },
        {
          "output_type": "execute_result",
          "data": {
            "text/plain": [
              "'\\n# Separate the indices for each class.\\nclass_0_indices = df[df[\\'Label\\'] == 0][\\'Graph ID\\'].tolist()\\nclass_1_indices = df[df[\\'Label\\'] == 1][\\'Graph ID\\'].tolist()\\n\\n# Downsample class 1 to match class 0.\\nrandom.seed(42)  # For reproducibility\\nbalanced_class_1_indices = random.sample(class_1_indices, len(class_0_indices))\\n\\n# Combine the downsampled class 1 indices with class 0 indices.\\nbalanced_indices = class_0_indices + balanced_class_1_indices\\n\\n# Update the dataset in place with the balanced indices.\\ndataset = [dataset[i] for i in balanced_indices]\\n\\n# Update the DataFrame with the new dataset statistics.\\nupdated_num_nodes = [dataset[i].num_nodes for i in range(len(dataset))]\\nupdated_num_edges = [dataset[i].num_edges for i in range(len(dataset))]\\nupdated_labels = [dataset[i].y.item() for i in range(len(dataset))]\\n\\n# Create the updated DataFrame.\\ndf = pd.DataFrame({\\n    \"Graph ID\": range(len(dataset)),\\n    \"Num Nodes\": updated_num_nodes,\\n    \"Num Edges\": updated_num_edges,\\n    \"Label\": updated_labels\\n})\\n\\n# Updated dataset statistics.\\nprint(\"\\nUpdated Dataset Statistics:\")\\nprint(\\'============================\\')\\nprint(f\"Number of Graphs: {len(dataset)}\")\\nprint(\"Class Distribution:\")\\nprint(df[\\'Label\\'].value_counts())\\n'"
            ],
            "application/vnd.google.colaboratory.intrinsic+json": {
              "type": "string"
            }
          },
          "metadata": {},
          "execution_count": 15
        }
      ]
    },
    {
      "cell_type": "code",
      "source": [
        "# Plot class distribution using Plotly.\n",
        "class_counts = df['Label'].value_counts().reset_index()\n",
        "class_counts.columns = ['Label', 'Count']\n",
        "\n",
        "fig = px.bar(\n",
        "    class_counts,\n",
        "    x='Label', y='Count',\n",
        "    labels={\"Label\": \"Class Label\", \"Count\": \"Count\"},\n",
        "    title=\"Class Distribution in MUTAG Dataset\"\n",
        ")\n",
        "fig.show()\n"
      ],
      "metadata": {
        "colab": {
          "base_uri": "https://localhost:8080/",
          "height": 542
        },
        "id": "fKGtzVSjsDoF",
        "outputId": "30d70ba7-6fb6-40de-8017-4a04748a4d67"
      },
      "execution_count": 16,
      "outputs": [
        {
          "output_type": "display_data",
          "data": {
            "text/html": [
              "<html>\n",
              "<head><meta charset=\"utf-8\" /></head>\n",
              "<body>\n",
              "    <div>            <script src=\"https://cdnjs.cloudflare.com/ajax/libs/mathjax/2.7.5/MathJax.js?config=TeX-AMS-MML_SVG\"></script><script type=\"text/javascript\">if (window.MathJax && window.MathJax.Hub && window.MathJax.Hub.Config) {window.MathJax.Hub.Config({SVG: {font: \"STIX-Web\"}});}</script>                <script type=\"text/javascript\">window.PlotlyConfig = {MathJaxConfig: 'local'};</script>\n",
              "        <script charset=\"utf-8\" src=\"https://cdn.plot.ly/plotly-2.35.2.min.js\"></script>                <div id=\"3c7bc456-2ce2-43a5-a1b8-460a81c9dc42\" class=\"plotly-graph-div\" style=\"height:525px; width:100%;\"></div>            <script type=\"text/javascript\">                                    window.PLOTLYENV=window.PLOTLYENV || {};                                    if (document.getElementById(\"3c7bc456-2ce2-43a5-a1b8-460a81c9dc42\")) {                    Plotly.newPlot(                        \"3c7bc456-2ce2-43a5-a1b8-460a81c9dc42\",                        [{\"alignmentgroup\":\"True\",\"hovertemplate\":\"Class Label=%{x}\\u003cbr\\u003eCount=%{y}\\u003cextra\\u003e\\u003c\\u002fextra\\u003e\",\"legendgroup\":\"\",\"marker\":{\"color\":\"#636efa\",\"pattern\":{\"shape\":\"\"}},\"name\":\"\",\"offsetgroup\":\"\",\"orientation\":\"v\",\"showlegend\":false,\"textposition\":\"auto\",\"x\":[1,0],\"xaxis\":\"x\",\"y\":[125,63],\"yaxis\":\"y\",\"type\":\"bar\"}],                        {\"template\":{\"data\":{\"histogram2dcontour\":[{\"type\":\"histogram2dcontour\",\"colorbar\":{\"outlinewidth\":0,\"ticks\":\"\"},\"colorscale\":[[0.0,\"#0d0887\"],[0.1111111111111111,\"#46039f\"],[0.2222222222222222,\"#7201a8\"],[0.3333333333333333,\"#9c179e\"],[0.4444444444444444,\"#bd3786\"],[0.5555555555555556,\"#d8576b\"],[0.6666666666666666,\"#ed7953\"],[0.7777777777777778,\"#fb9f3a\"],[0.8888888888888888,\"#fdca26\"],[1.0,\"#f0f921\"]]}],\"choropleth\":[{\"type\":\"choropleth\",\"colorbar\":{\"outlinewidth\":0,\"ticks\":\"\"}}],\"histogram2d\":[{\"type\":\"histogram2d\",\"colorbar\":{\"outlinewidth\":0,\"ticks\":\"\"},\"colorscale\":[[0.0,\"#0d0887\"],[0.1111111111111111,\"#46039f\"],[0.2222222222222222,\"#7201a8\"],[0.3333333333333333,\"#9c179e\"],[0.4444444444444444,\"#bd3786\"],[0.5555555555555556,\"#d8576b\"],[0.6666666666666666,\"#ed7953\"],[0.7777777777777778,\"#fb9f3a\"],[0.8888888888888888,\"#fdca26\"],[1.0,\"#f0f921\"]]}],\"heatmap\":[{\"type\":\"heatmap\",\"colorbar\":{\"outlinewidth\":0,\"ticks\":\"\"},\"colorscale\":[[0.0,\"#0d0887\"],[0.1111111111111111,\"#46039f\"],[0.2222222222222222,\"#7201a8\"],[0.3333333333333333,\"#9c179e\"],[0.4444444444444444,\"#bd3786\"],[0.5555555555555556,\"#d8576b\"],[0.6666666666666666,\"#ed7953\"],[0.7777777777777778,\"#fb9f3a\"],[0.8888888888888888,\"#fdca26\"],[1.0,\"#f0f921\"]]}],\"heatmapgl\":[{\"type\":\"heatmapgl\",\"colorbar\":{\"outlinewidth\":0,\"ticks\":\"\"},\"colorscale\":[[0.0,\"#0d0887\"],[0.1111111111111111,\"#46039f\"],[0.2222222222222222,\"#7201a8\"],[0.3333333333333333,\"#9c179e\"],[0.4444444444444444,\"#bd3786\"],[0.5555555555555556,\"#d8576b\"],[0.6666666666666666,\"#ed7953\"],[0.7777777777777778,\"#fb9f3a\"],[0.8888888888888888,\"#fdca26\"],[1.0,\"#f0f921\"]]}],\"contourcarpet\":[{\"type\":\"contourcarpet\",\"colorbar\":{\"outlinewidth\":0,\"ticks\":\"\"}}],\"contour\":[{\"type\":\"contour\",\"colorbar\":{\"outlinewidth\":0,\"ticks\":\"\"},\"colorscale\":[[0.0,\"#0d0887\"],[0.1111111111111111,\"#46039f\"],[0.2222222222222222,\"#7201a8\"],[0.3333333333333333,\"#9c179e\"],[0.4444444444444444,\"#bd3786\"],[0.5555555555555556,\"#d8576b\"],[0.6666666666666666,\"#ed7953\"],[0.7777777777777778,\"#fb9f3a\"],[0.8888888888888888,\"#fdca26\"],[1.0,\"#f0f921\"]]}],\"surface\":[{\"type\":\"surface\",\"colorbar\":{\"outlinewidth\":0,\"ticks\":\"\"},\"colorscale\":[[0.0,\"#0d0887\"],[0.1111111111111111,\"#46039f\"],[0.2222222222222222,\"#7201a8\"],[0.3333333333333333,\"#9c179e\"],[0.4444444444444444,\"#bd3786\"],[0.5555555555555556,\"#d8576b\"],[0.6666666666666666,\"#ed7953\"],[0.7777777777777778,\"#fb9f3a\"],[0.8888888888888888,\"#fdca26\"],[1.0,\"#f0f921\"]]}],\"mesh3d\":[{\"type\":\"mesh3d\",\"colorbar\":{\"outlinewidth\":0,\"ticks\":\"\"}}],\"scatter\":[{\"fillpattern\":{\"fillmode\":\"overlay\",\"size\":10,\"solidity\":0.2},\"type\":\"scatter\"}],\"parcoords\":[{\"type\":\"parcoords\",\"line\":{\"colorbar\":{\"outlinewidth\":0,\"ticks\":\"\"}}}],\"scatterpolargl\":[{\"type\":\"scatterpolargl\",\"marker\":{\"colorbar\":{\"outlinewidth\":0,\"ticks\":\"\"}}}],\"bar\":[{\"error_x\":{\"color\":\"#2a3f5f\"},\"error_y\":{\"color\":\"#2a3f5f\"},\"marker\":{\"line\":{\"color\":\"#E5ECF6\",\"width\":0.5},\"pattern\":{\"fillmode\":\"overlay\",\"size\":10,\"solidity\":0.2}},\"type\":\"bar\"}],\"scattergeo\":[{\"type\":\"scattergeo\",\"marker\":{\"colorbar\":{\"outlinewidth\":0,\"ticks\":\"\"}}}],\"scatterpolar\":[{\"type\":\"scatterpolar\",\"marker\":{\"colorbar\":{\"outlinewidth\":0,\"ticks\":\"\"}}}],\"histogram\":[{\"marker\":{\"pattern\":{\"fillmode\":\"overlay\",\"size\":10,\"solidity\":0.2}},\"type\":\"histogram\"}],\"scattergl\":[{\"type\":\"scattergl\",\"marker\":{\"colorbar\":{\"outlinewidth\":0,\"ticks\":\"\"}}}],\"scatter3d\":[{\"type\":\"scatter3d\",\"line\":{\"colorbar\":{\"outlinewidth\":0,\"ticks\":\"\"}},\"marker\":{\"colorbar\":{\"outlinewidth\":0,\"ticks\":\"\"}}}],\"scattermapbox\":[{\"type\":\"scattermapbox\",\"marker\":{\"colorbar\":{\"outlinewidth\":0,\"ticks\":\"\"}}}],\"scatterternary\":[{\"type\":\"scatterternary\",\"marker\":{\"colorbar\":{\"outlinewidth\":0,\"ticks\":\"\"}}}],\"scattercarpet\":[{\"type\":\"scattercarpet\",\"marker\":{\"colorbar\":{\"outlinewidth\":0,\"ticks\":\"\"}}}],\"carpet\":[{\"aaxis\":{\"endlinecolor\":\"#2a3f5f\",\"gridcolor\":\"white\",\"linecolor\":\"white\",\"minorgridcolor\":\"white\",\"startlinecolor\":\"#2a3f5f\"},\"baxis\":{\"endlinecolor\":\"#2a3f5f\",\"gridcolor\":\"white\",\"linecolor\":\"white\",\"minorgridcolor\":\"white\",\"startlinecolor\":\"#2a3f5f\"},\"type\":\"carpet\"}],\"table\":[{\"cells\":{\"fill\":{\"color\":\"#EBF0F8\"},\"line\":{\"color\":\"white\"}},\"header\":{\"fill\":{\"color\":\"#C8D4E3\"},\"line\":{\"color\":\"white\"}},\"type\":\"table\"}],\"barpolar\":[{\"marker\":{\"line\":{\"color\":\"#E5ECF6\",\"width\":0.5},\"pattern\":{\"fillmode\":\"overlay\",\"size\":10,\"solidity\":0.2}},\"type\":\"barpolar\"}],\"pie\":[{\"automargin\":true,\"type\":\"pie\"}]},\"layout\":{\"autotypenumbers\":\"strict\",\"colorway\":[\"#636efa\",\"#EF553B\",\"#00cc96\",\"#ab63fa\",\"#FFA15A\",\"#19d3f3\",\"#FF6692\",\"#B6E880\",\"#FF97FF\",\"#FECB52\"],\"font\":{\"color\":\"#2a3f5f\"},\"hovermode\":\"closest\",\"hoverlabel\":{\"align\":\"left\"},\"paper_bgcolor\":\"white\",\"plot_bgcolor\":\"#E5ECF6\",\"polar\":{\"bgcolor\":\"#E5ECF6\",\"angularaxis\":{\"gridcolor\":\"white\",\"linecolor\":\"white\",\"ticks\":\"\"},\"radialaxis\":{\"gridcolor\":\"white\",\"linecolor\":\"white\",\"ticks\":\"\"}},\"ternary\":{\"bgcolor\":\"#E5ECF6\",\"aaxis\":{\"gridcolor\":\"white\",\"linecolor\":\"white\",\"ticks\":\"\"},\"baxis\":{\"gridcolor\":\"white\",\"linecolor\":\"white\",\"ticks\":\"\"},\"caxis\":{\"gridcolor\":\"white\",\"linecolor\":\"white\",\"ticks\":\"\"}},\"coloraxis\":{\"colorbar\":{\"outlinewidth\":0,\"ticks\":\"\"}},\"colorscale\":{\"sequential\":[[0.0,\"#0d0887\"],[0.1111111111111111,\"#46039f\"],[0.2222222222222222,\"#7201a8\"],[0.3333333333333333,\"#9c179e\"],[0.4444444444444444,\"#bd3786\"],[0.5555555555555556,\"#d8576b\"],[0.6666666666666666,\"#ed7953\"],[0.7777777777777778,\"#fb9f3a\"],[0.8888888888888888,\"#fdca26\"],[1.0,\"#f0f921\"]],\"sequentialminus\":[[0.0,\"#0d0887\"],[0.1111111111111111,\"#46039f\"],[0.2222222222222222,\"#7201a8\"],[0.3333333333333333,\"#9c179e\"],[0.4444444444444444,\"#bd3786\"],[0.5555555555555556,\"#d8576b\"],[0.6666666666666666,\"#ed7953\"],[0.7777777777777778,\"#fb9f3a\"],[0.8888888888888888,\"#fdca26\"],[1.0,\"#f0f921\"]],\"diverging\":[[0,\"#8e0152\"],[0.1,\"#c51b7d\"],[0.2,\"#de77ae\"],[0.3,\"#f1b6da\"],[0.4,\"#fde0ef\"],[0.5,\"#f7f7f7\"],[0.6,\"#e6f5d0\"],[0.7,\"#b8e186\"],[0.8,\"#7fbc41\"],[0.9,\"#4d9221\"],[1,\"#276419\"]]},\"xaxis\":{\"gridcolor\":\"white\",\"linecolor\":\"white\",\"ticks\":\"\",\"title\":{\"standoff\":15},\"zerolinecolor\":\"white\",\"automargin\":true,\"zerolinewidth\":2},\"yaxis\":{\"gridcolor\":\"white\",\"linecolor\":\"white\",\"ticks\":\"\",\"title\":{\"standoff\":15},\"zerolinecolor\":\"white\",\"automargin\":true,\"zerolinewidth\":2},\"scene\":{\"xaxis\":{\"backgroundcolor\":\"#E5ECF6\",\"gridcolor\":\"white\",\"linecolor\":\"white\",\"showbackground\":true,\"ticks\":\"\",\"zerolinecolor\":\"white\",\"gridwidth\":2},\"yaxis\":{\"backgroundcolor\":\"#E5ECF6\",\"gridcolor\":\"white\",\"linecolor\":\"white\",\"showbackground\":true,\"ticks\":\"\",\"zerolinecolor\":\"white\",\"gridwidth\":2},\"zaxis\":{\"backgroundcolor\":\"#E5ECF6\",\"gridcolor\":\"white\",\"linecolor\":\"white\",\"showbackground\":true,\"ticks\":\"\",\"zerolinecolor\":\"white\",\"gridwidth\":2}},\"shapedefaults\":{\"line\":{\"color\":\"#2a3f5f\"}},\"annotationdefaults\":{\"arrowcolor\":\"#2a3f5f\",\"arrowhead\":0,\"arrowwidth\":1},\"geo\":{\"bgcolor\":\"white\",\"landcolor\":\"#E5ECF6\",\"subunitcolor\":\"white\",\"showland\":true,\"showlakes\":true,\"lakecolor\":\"white\"},\"title\":{\"x\":0.05},\"mapbox\":{\"style\":\"light\"}}},\"xaxis\":{\"anchor\":\"y\",\"domain\":[0.0,1.0],\"title\":{\"text\":\"Class Label\"}},\"yaxis\":{\"anchor\":\"x\",\"domain\":[0.0,1.0],\"title\":{\"text\":\"Count\"}},\"legend\":{\"tracegroupgap\":0},\"title\":{\"text\":\"Class Distribution in MUTAG Dataset\"},\"barmode\":\"relative\"},                        {\"responsive\": true}                    ).then(function(){\n",
              "                            \n",
              "var gd = document.getElementById('3c7bc456-2ce2-43a5-a1b8-460a81c9dc42');\n",
              "var x = new MutationObserver(function (mutations, observer) {{\n",
              "        var display = window.getComputedStyle(gd).display;\n",
              "        if (!display || display === 'none') {{\n",
              "            console.log([gd, 'removed!']);\n",
              "            Plotly.purge(gd);\n",
              "            observer.disconnect();\n",
              "        }}\n",
              "}});\n",
              "\n",
              "// Listen for the removal of the full notebook cells\n",
              "var notebookContainer = gd.closest('#notebook-container');\n",
              "if (notebookContainer) {{\n",
              "    x.observe(notebookContainer, {childList: true});\n",
              "}}\n",
              "\n",
              "// Listen for the clearing of the current output cell\n",
              "var outputEl = gd.closest('.output');\n",
              "if (outputEl) {{\n",
              "    x.observe(outputEl, {childList: true});\n",
              "}}\n",
              "\n",
              "                        })                };                            </script>        </div>\n",
              "</body>\n",
              "</html>"
            ]
          },
          "metadata": {}
        }
      ]
    },
    {
      "cell_type": "code",
      "source": [
        "# Take the first graph of the Dataset.\n",
        "single_graph = dataset[0]\n",
        "print()\n",
        "print(single_graph)\n",
        "print('=============================================================')\n",
        "\n",
        "# Gather some statistics about the first graph.\n",
        "print(f'Number of nodes: {single_graph.num_nodes}')\n",
        "print(f'Number of edges: {single_graph.num_edges}')\n",
        "print(f'Average node degree: {single_graph.num_edges / single_graph.num_nodes:.2f}')\n",
        "print(f'Has isolated nodes: {single_graph.has_isolated_nodes()}')\n",
        "print(f'Has self-loops: {single_graph.has_self_loops()}')\n",
        "print(f'Is undirected: {single_graph.is_undirected()}')"
      ],
      "metadata": {
        "colab": {
          "base_uri": "https://localhost:8080/"
        },
        "id": "Tmgyk5Lhszvv",
        "outputId": "3dbdb831-aae0-4c18-cef6-6414b8ef5f72"
      },
      "execution_count": 17,
      "outputs": [
        {
          "output_type": "stream",
          "name": "stdout",
          "text": [
            "\n",
            "Data(edge_index=[2, 38], x=[17, 7], edge_attr=[38, 4], y=[1])\n",
            "=============================================================\n",
            "Number of nodes: 17\n",
            "Number of edges: 38\n",
            "Average node degree: 2.24\n",
            "Has isolated nodes: False\n",
            "Has self-loops: False\n",
            "Is undirected: True\n"
          ]
        }
      ]
    },
    {
      "cell_type": "code",
      "source": [
        "import torch\n",
        "import plotly.graph_objs as go\n",
        "import networkx as nx\n",
        "from torch_geometric.utils import to_networkx\n",
        "import matplotlib.pyplot as plt\n",
        "import numpy as np\n",
        "\n",
        "# Assuming you already have the graph data loaded as `single_graph`\n",
        "# Convert the first graph in the dataset to NetworkX.\n",
        "G = to_networkx(single_graph, to_undirected=True)\n",
        "\n",
        "# Extract the node feature matrix\n",
        "node_features = single_graph.x  # Shape: [num_nodes, num_features]\n",
        "\n",
        "# Convert one-hot encoded node features to atom types (indices)\n",
        "node_colors = torch.argmax(node_features, dim=1).numpy()\n",
        "\n",
        "# Define a colormap for different atom types\n",
        "cmap = plt.get_cmap(\"tab10\")  # You can choose any matplotlib colormap\n",
        "unique_atom_types = np.unique(node_colors)\n",
        "colors = {atom_type: cmap(i / len(unique_atom_types)) for i, atom_type in enumerate(unique_atom_types)}\n",
        "\n",
        "# Generate 2D layout\n",
        "pos_2d = nx.spring_layout(G, seed=42)\n",
        "\n",
        "# Prepare edge trace for 2D visualization\n",
        "edge_x_2d = []\n",
        "edge_y_2d = []\n",
        "for edge in G.edges():\n",
        "    x0, y0 = pos_2d[edge[0]]\n",
        "    x1, y1 = pos_2d[edge[1]]\n",
        "    edge_x_2d.extend([x0, x1, None])\n",
        "    edge_y_2d.extend([y0, y1, None])\n",
        "\n",
        "edge_trace_2d = go.Scatter(\n",
        "    x=edge_x_2d, y=edge_y_2d,\n",
        "    line=dict(width=0.5, color='#888'),\n",
        "    hoverinfo='none',\n",
        "    mode='lines'\n",
        ")\n",
        "\n",
        "# Prepare node trace for 2D visualization\n",
        "node_x_2d = []\n",
        "node_y_2d = []\n",
        "node_labels = []\n",
        "node_colors_plotly = []\n",
        "\n",
        "for node in G.nodes():\n",
        "    x, y = pos_2d[node]\n",
        "    node_x_2d.append(x)\n",
        "    node_y_2d.append(y)\n",
        "    atom_type_list = ['C', 'N', 'O', 'F', 'I', 'Cl', 'Br']\n",
        "    atom_type = atom_type_list[node_colors[node]]\n",
        "    node_labels.append(f\"{atom_type}\")\n",
        "    rgba_color = colors[node_colors[node]]\n",
        "    plotly_color = f\"rgba({rgba_color[0] * 255}, {rgba_color[1] * 255}, {rgba_color[2] * 255}, {rgba_color[3]})\"\n",
        "    node_colors_plotly.append(plotly_color)\n",
        "\n",
        "node_trace_2d = go.Scatter(\n",
        "    x=node_x_2d, y=node_y_2d,\n",
        "    mode='markers+text',\n",
        "    hoverinfo='text',\n",
        "    marker=dict(\n",
        "        size=10,\n",
        "        color=node_colors_plotly,\n",
        "    ),\n",
        "    text=node_labels,\n",
        "    textposition=\"top center\"\n",
        ")\n",
        "\n",
        "# 2D Visualization\n",
        "fig_2d = go.Figure(data=[edge_trace_2d, node_trace_2d],\n",
        "                   layout=go.Layout(\n",
        "                       title=\"2D Visualization of Graph 0\",\n",
        "                       showlegend=False,\n",
        "                       hovermode='closest',\n",
        "                       margin=dict(b=0, l=0, r=0, t=40),\n",
        "                       xaxis=dict(showgrid=False, zeroline=False),\n",
        "                       yaxis=dict(showgrid=False, zeroline=False)\n",
        "                   ))\n",
        "fig_2d.show()\n",
        "\n",
        "# Analyze graph properties\n",
        "print(f\"Number of nodes: {single_graph.num_nodes}\")\n",
        "print(f\"Number of edges: {single_graph.num_edges}\")\n",
        "print(f\"Is graph directed? {single_graph.is_directed()}\")\n",
        "print(f\"Graph label: {single_graph.y}\")\n"
      ],
      "metadata": {
        "colab": {
          "base_uri": "https://localhost:8080/",
          "height": 613
        },
        "id": "kf8xM0wOsFi7",
        "outputId": "0b08aee1-d7ce-492d-c1ba-9be1fa7acdb4"
      },
      "execution_count": 18,
      "outputs": [
        {
          "output_type": "display_data",
          "data": {
            "text/html": [
              "<html>\n",
              "<head><meta charset=\"utf-8\" /></head>\n",
              "<body>\n",
              "    <div>            <script src=\"https://cdnjs.cloudflare.com/ajax/libs/mathjax/2.7.5/MathJax.js?config=TeX-AMS-MML_SVG\"></script><script type=\"text/javascript\">if (window.MathJax && window.MathJax.Hub && window.MathJax.Hub.Config) {window.MathJax.Hub.Config({SVG: {font: \"STIX-Web\"}});}</script>                <script type=\"text/javascript\">window.PlotlyConfig = {MathJaxConfig: 'local'};</script>\n",
              "        <script charset=\"utf-8\" src=\"https://cdn.plot.ly/plotly-2.35.2.min.js\"></script>                <div id=\"4db84274-4be2-4f4f-93ca-389413e0841a\" class=\"plotly-graph-div\" style=\"height:525px; width:100%;\"></div>            <script type=\"text/javascript\">                                    window.PLOTLYENV=window.PLOTLYENV || {};                                    if (document.getElementById(\"4db84274-4be2-4f4f-93ca-389413e0841a\")) {                    Plotly.newPlot(                        \"4db84274-4be2-4f4f-93ca-389413e0841a\",                        [{\"hoverinfo\":\"none\",\"line\":{\"color\":\"#888\",\"width\":0.5},\"mode\":\"lines\",\"x\":[-0.3727182492900634,-0.5510840196249834,null,-0.3727182492900634,-0.2299887901282408,null,-0.5510840196249834,-0.5438804985577245,null,-0.5438804985577245,-0.3766813157901222,null,-0.3766813157901222,-0.20885686146700344,null,-0.3766813157901222,-0.2665553478854011,null,-0.20885686146700344,-0.2299887901282408,null,-0.20885686146700344,-0.016589072446311765,null,-0.016589072446311765,0.04449844969654987,null,0.04449844969654987,-0.004549900306905611,null,-0.004549900306905611,-0.2665553478854011,null,-0.004549900306905611,0.17349067894459028,null,-0.2665553478854011,-0.20909489834523434,null,-0.20909489834523434,0.006577112790116703,null,0.006577112790116703,0.30487213864738016,null,0.30487213864738016,0.17349067894459028,null,0.30487213864738016,0.6260641640669481,null,0.6260641640669481,0.7958900025590367,null,0.6260641640669481,0.8286064071373688,null],\"y\":[1.0,0.8570191093083964,null,1.0,0.828528558137815,null,0.8570191093083964,0.5802363441080655,null,0.5802363441080655,0.30682370852924457,null,0.30682370852924457,0.5429957606160726,null,0.30682370852924457,-0.0705188995613755,null,0.5429957606160726,0.828528558137815,null,0.5429957606160726,0.3753641564577354,null,0.3753641564577354,0.12135433599050012,null,0.12135433599050012,-0.1484296524723047,null,-0.1484296524723047,-0.0705188995613755,null,-0.1484296524723047,-0.40582669457225157,null,-0.0705188995613755,-0.3993931571933171,null,-0.3993931571933171,-0.6191922903997025,null,-0.6191922903997025,-0.6515404053515196,null,-0.6515404053515196,-0.40582669457225157,null,-0.6515404053515196,-0.7588467657998171,null,-0.7588467657998171,-0.9358164791562336,null,-0.7588467657998171,-0.6227576286413062,null],\"type\":\"scatter\"},{\"hoverinfo\":\"text\",\"marker\":{\"color\":[\"rgba(31.0, 119.0, 180.0, 1.0)\",\"rgba(31.0, 119.0, 180.0, 1.0)\",\"rgba(31.0, 119.0, 180.0, 1.0)\",\"rgba(31.0, 119.0, 180.0, 1.0)\",\"rgba(31.0, 119.0, 180.0, 1.0)\",\"rgba(31.0, 119.0, 180.0, 1.0)\",\"rgba(31.0, 119.0, 180.0, 1.0)\",\"rgba(31.0, 119.0, 180.0, 1.0)\",\"rgba(31.0, 119.0, 180.0, 1.0)\",\"rgba(31.0, 119.0, 180.0, 1.0)\",\"rgba(31.0, 119.0, 180.0, 1.0)\",\"rgba(31.0, 119.0, 180.0, 1.0)\",\"rgba(31.0, 119.0, 180.0, 1.0)\",\"rgba(31.0, 119.0, 180.0, 1.0)\",\"rgba(214.0, 39.0, 40.0, 1.0)\",\"rgba(227.0, 119.0, 194.0, 1.0)\",\"rgba(227.0, 119.0, 194.0, 1.0)\"],\"size\":10},\"mode\":\"markers+text\",\"text\":[\"C\",\"C\",\"C\",\"C\",\"C\",\"C\",\"C\",\"C\",\"C\",\"C\",\"C\",\"C\",\"C\",\"C\",\"N\",\"O\",\"O\"],\"textposition\":\"top center\",\"x\":[-0.3727182492900634,-0.5510840196249834,-0.5438804985577245,-0.3766813157901222,-0.20885686146700344,-0.2299887901282408,-0.016589072446311765,0.04449844969654987,-0.004549900306905611,-0.2665553478854011,-0.20909489834523434,0.006577112790116703,0.30487213864738016,0.17349067894459028,0.6260641640669481,0.7958900025590367,0.8286064071373688],\"y\":[1.0,0.8570191093083964,0.5802363441080655,0.30682370852924457,0.5429957606160726,0.828528558137815,0.3753641564577354,0.12135433599050012,-0.1484296524723047,-0.0705188995613755,-0.3993931571933171,-0.6191922903997025,-0.6515404053515196,-0.40582669457225157,-0.7588467657998171,-0.9358164791562336,-0.6227576286413062],\"type\":\"scatter\"}],                        {\"hovermode\":\"closest\",\"margin\":{\"b\":0,\"l\":0,\"r\":0,\"t\":40},\"showlegend\":false,\"title\":{\"text\":\"2D Visualization of Graph 0\"},\"xaxis\":{\"showgrid\":false,\"zeroline\":false},\"yaxis\":{\"showgrid\":false,\"zeroline\":false},\"template\":{\"data\":{\"histogram2dcontour\":[{\"type\":\"histogram2dcontour\",\"colorbar\":{\"outlinewidth\":0,\"ticks\":\"\"},\"colorscale\":[[0.0,\"#0d0887\"],[0.1111111111111111,\"#46039f\"],[0.2222222222222222,\"#7201a8\"],[0.3333333333333333,\"#9c179e\"],[0.4444444444444444,\"#bd3786\"],[0.5555555555555556,\"#d8576b\"],[0.6666666666666666,\"#ed7953\"],[0.7777777777777778,\"#fb9f3a\"],[0.8888888888888888,\"#fdca26\"],[1.0,\"#f0f921\"]]}],\"choropleth\":[{\"type\":\"choropleth\",\"colorbar\":{\"outlinewidth\":0,\"ticks\":\"\"}}],\"histogram2d\":[{\"type\":\"histogram2d\",\"colorbar\":{\"outlinewidth\":0,\"ticks\":\"\"},\"colorscale\":[[0.0,\"#0d0887\"],[0.1111111111111111,\"#46039f\"],[0.2222222222222222,\"#7201a8\"],[0.3333333333333333,\"#9c179e\"],[0.4444444444444444,\"#bd3786\"],[0.5555555555555556,\"#d8576b\"],[0.6666666666666666,\"#ed7953\"],[0.7777777777777778,\"#fb9f3a\"],[0.8888888888888888,\"#fdca26\"],[1.0,\"#f0f921\"]]}],\"heatmap\":[{\"type\":\"heatmap\",\"colorbar\":{\"outlinewidth\":0,\"ticks\":\"\"},\"colorscale\":[[0.0,\"#0d0887\"],[0.1111111111111111,\"#46039f\"],[0.2222222222222222,\"#7201a8\"],[0.3333333333333333,\"#9c179e\"],[0.4444444444444444,\"#bd3786\"],[0.5555555555555556,\"#d8576b\"],[0.6666666666666666,\"#ed7953\"],[0.7777777777777778,\"#fb9f3a\"],[0.8888888888888888,\"#fdca26\"],[1.0,\"#f0f921\"]]}],\"heatmapgl\":[{\"type\":\"heatmapgl\",\"colorbar\":{\"outlinewidth\":0,\"ticks\":\"\"},\"colorscale\":[[0.0,\"#0d0887\"],[0.1111111111111111,\"#46039f\"],[0.2222222222222222,\"#7201a8\"],[0.3333333333333333,\"#9c179e\"],[0.4444444444444444,\"#bd3786\"],[0.5555555555555556,\"#d8576b\"],[0.6666666666666666,\"#ed7953\"],[0.7777777777777778,\"#fb9f3a\"],[0.8888888888888888,\"#fdca26\"],[1.0,\"#f0f921\"]]}],\"contourcarpet\":[{\"type\":\"contourcarpet\",\"colorbar\":{\"outlinewidth\":0,\"ticks\":\"\"}}],\"contour\":[{\"type\":\"contour\",\"colorbar\":{\"outlinewidth\":0,\"ticks\":\"\"},\"colorscale\":[[0.0,\"#0d0887\"],[0.1111111111111111,\"#46039f\"],[0.2222222222222222,\"#7201a8\"],[0.3333333333333333,\"#9c179e\"],[0.4444444444444444,\"#bd3786\"],[0.5555555555555556,\"#d8576b\"],[0.6666666666666666,\"#ed7953\"],[0.7777777777777778,\"#fb9f3a\"],[0.8888888888888888,\"#fdca26\"],[1.0,\"#f0f921\"]]}],\"surface\":[{\"type\":\"surface\",\"colorbar\":{\"outlinewidth\":0,\"ticks\":\"\"},\"colorscale\":[[0.0,\"#0d0887\"],[0.1111111111111111,\"#46039f\"],[0.2222222222222222,\"#7201a8\"],[0.3333333333333333,\"#9c179e\"],[0.4444444444444444,\"#bd3786\"],[0.5555555555555556,\"#d8576b\"],[0.6666666666666666,\"#ed7953\"],[0.7777777777777778,\"#fb9f3a\"],[0.8888888888888888,\"#fdca26\"],[1.0,\"#f0f921\"]]}],\"mesh3d\":[{\"type\":\"mesh3d\",\"colorbar\":{\"outlinewidth\":0,\"ticks\":\"\"}}],\"scatter\":[{\"fillpattern\":{\"fillmode\":\"overlay\",\"size\":10,\"solidity\":0.2},\"type\":\"scatter\"}],\"parcoords\":[{\"type\":\"parcoords\",\"line\":{\"colorbar\":{\"outlinewidth\":0,\"ticks\":\"\"}}}],\"scatterpolargl\":[{\"type\":\"scatterpolargl\",\"marker\":{\"colorbar\":{\"outlinewidth\":0,\"ticks\":\"\"}}}],\"bar\":[{\"error_x\":{\"color\":\"#2a3f5f\"},\"error_y\":{\"color\":\"#2a3f5f\"},\"marker\":{\"line\":{\"color\":\"#E5ECF6\",\"width\":0.5},\"pattern\":{\"fillmode\":\"overlay\",\"size\":10,\"solidity\":0.2}},\"type\":\"bar\"}],\"scattergeo\":[{\"type\":\"scattergeo\",\"marker\":{\"colorbar\":{\"outlinewidth\":0,\"ticks\":\"\"}}}],\"scatterpolar\":[{\"type\":\"scatterpolar\",\"marker\":{\"colorbar\":{\"outlinewidth\":0,\"ticks\":\"\"}}}],\"histogram\":[{\"marker\":{\"pattern\":{\"fillmode\":\"overlay\",\"size\":10,\"solidity\":0.2}},\"type\":\"histogram\"}],\"scattergl\":[{\"type\":\"scattergl\",\"marker\":{\"colorbar\":{\"outlinewidth\":0,\"ticks\":\"\"}}}],\"scatter3d\":[{\"type\":\"scatter3d\",\"line\":{\"colorbar\":{\"outlinewidth\":0,\"ticks\":\"\"}},\"marker\":{\"colorbar\":{\"outlinewidth\":0,\"ticks\":\"\"}}}],\"scattermapbox\":[{\"type\":\"scattermapbox\",\"marker\":{\"colorbar\":{\"outlinewidth\":0,\"ticks\":\"\"}}}],\"scatterternary\":[{\"type\":\"scatterternary\",\"marker\":{\"colorbar\":{\"outlinewidth\":0,\"ticks\":\"\"}}}],\"scattercarpet\":[{\"type\":\"scattercarpet\",\"marker\":{\"colorbar\":{\"outlinewidth\":0,\"ticks\":\"\"}}}],\"carpet\":[{\"aaxis\":{\"endlinecolor\":\"#2a3f5f\",\"gridcolor\":\"white\",\"linecolor\":\"white\",\"minorgridcolor\":\"white\",\"startlinecolor\":\"#2a3f5f\"},\"baxis\":{\"endlinecolor\":\"#2a3f5f\",\"gridcolor\":\"white\",\"linecolor\":\"white\",\"minorgridcolor\":\"white\",\"startlinecolor\":\"#2a3f5f\"},\"type\":\"carpet\"}],\"table\":[{\"cells\":{\"fill\":{\"color\":\"#EBF0F8\"},\"line\":{\"color\":\"white\"}},\"header\":{\"fill\":{\"color\":\"#C8D4E3\"},\"line\":{\"color\":\"white\"}},\"type\":\"table\"}],\"barpolar\":[{\"marker\":{\"line\":{\"color\":\"#E5ECF6\",\"width\":0.5},\"pattern\":{\"fillmode\":\"overlay\",\"size\":10,\"solidity\":0.2}},\"type\":\"barpolar\"}],\"pie\":[{\"automargin\":true,\"type\":\"pie\"}]},\"layout\":{\"autotypenumbers\":\"strict\",\"colorway\":[\"#636efa\",\"#EF553B\",\"#00cc96\",\"#ab63fa\",\"#FFA15A\",\"#19d3f3\",\"#FF6692\",\"#B6E880\",\"#FF97FF\",\"#FECB52\"],\"font\":{\"color\":\"#2a3f5f\"},\"hovermode\":\"closest\",\"hoverlabel\":{\"align\":\"left\"},\"paper_bgcolor\":\"white\",\"plot_bgcolor\":\"#E5ECF6\",\"polar\":{\"bgcolor\":\"#E5ECF6\",\"angularaxis\":{\"gridcolor\":\"white\",\"linecolor\":\"white\",\"ticks\":\"\"},\"radialaxis\":{\"gridcolor\":\"white\",\"linecolor\":\"white\",\"ticks\":\"\"}},\"ternary\":{\"bgcolor\":\"#E5ECF6\",\"aaxis\":{\"gridcolor\":\"white\",\"linecolor\":\"white\",\"ticks\":\"\"},\"baxis\":{\"gridcolor\":\"white\",\"linecolor\":\"white\",\"ticks\":\"\"},\"caxis\":{\"gridcolor\":\"white\",\"linecolor\":\"white\",\"ticks\":\"\"}},\"coloraxis\":{\"colorbar\":{\"outlinewidth\":0,\"ticks\":\"\"}},\"colorscale\":{\"sequential\":[[0.0,\"#0d0887\"],[0.1111111111111111,\"#46039f\"],[0.2222222222222222,\"#7201a8\"],[0.3333333333333333,\"#9c179e\"],[0.4444444444444444,\"#bd3786\"],[0.5555555555555556,\"#d8576b\"],[0.6666666666666666,\"#ed7953\"],[0.7777777777777778,\"#fb9f3a\"],[0.8888888888888888,\"#fdca26\"],[1.0,\"#f0f921\"]],\"sequentialminus\":[[0.0,\"#0d0887\"],[0.1111111111111111,\"#46039f\"],[0.2222222222222222,\"#7201a8\"],[0.3333333333333333,\"#9c179e\"],[0.4444444444444444,\"#bd3786\"],[0.5555555555555556,\"#d8576b\"],[0.6666666666666666,\"#ed7953\"],[0.7777777777777778,\"#fb9f3a\"],[0.8888888888888888,\"#fdca26\"],[1.0,\"#f0f921\"]],\"diverging\":[[0,\"#8e0152\"],[0.1,\"#c51b7d\"],[0.2,\"#de77ae\"],[0.3,\"#f1b6da\"],[0.4,\"#fde0ef\"],[0.5,\"#f7f7f7\"],[0.6,\"#e6f5d0\"],[0.7,\"#b8e186\"],[0.8,\"#7fbc41\"],[0.9,\"#4d9221\"],[1,\"#276419\"]]},\"xaxis\":{\"gridcolor\":\"white\",\"linecolor\":\"white\",\"ticks\":\"\",\"title\":{\"standoff\":15},\"zerolinecolor\":\"white\",\"automargin\":true,\"zerolinewidth\":2},\"yaxis\":{\"gridcolor\":\"white\",\"linecolor\":\"white\",\"ticks\":\"\",\"title\":{\"standoff\":15},\"zerolinecolor\":\"white\",\"automargin\":true,\"zerolinewidth\":2},\"scene\":{\"xaxis\":{\"backgroundcolor\":\"#E5ECF6\",\"gridcolor\":\"white\",\"linecolor\":\"white\",\"showbackground\":true,\"ticks\":\"\",\"zerolinecolor\":\"white\",\"gridwidth\":2},\"yaxis\":{\"backgroundcolor\":\"#E5ECF6\",\"gridcolor\":\"white\",\"linecolor\":\"white\",\"showbackground\":true,\"ticks\":\"\",\"zerolinecolor\":\"white\",\"gridwidth\":2},\"zaxis\":{\"backgroundcolor\":\"#E5ECF6\",\"gridcolor\":\"white\",\"linecolor\":\"white\",\"showbackground\":true,\"ticks\":\"\",\"zerolinecolor\":\"white\",\"gridwidth\":2}},\"shapedefaults\":{\"line\":{\"color\":\"#2a3f5f\"}},\"annotationdefaults\":{\"arrowcolor\":\"#2a3f5f\",\"arrowhead\":0,\"arrowwidth\":1},\"geo\":{\"bgcolor\":\"white\",\"landcolor\":\"#E5ECF6\",\"subunitcolor\":\"white\",\"showland\":true,\"showlakes\":true,\"lakecolor\":\"white\"},\"title\":{\"x\":0.05},\"mapbox\":{\"style\":\"light\"}}}},                        {\"responsive\": true}                    ).then(function(){\n",
              "                            \n",
              "var gd = document.getElementById('4db84274-4be2-4f4f-93ca-389413e0841a');\n",
              "var x = new MutationObserver(function (mutations, observer) {{\n",
              "        var display = window.getComputedStyle(gd).display;\n",
              "        if (!display || display === 'none') {{\n",
              "            console.log([gd, 'removed!']);\n",
              "            Plotly.purge(gd);\n",
              "            observer.disconnect();\n",
              "        }}\n",
              "}});\n",
              "\n",
              "// Listen for the removal of the full notebook cells\n",
              "var notebookContainer = gd.closest('#notebook-container');\n",
              "if (notebookContainer) {{\n",
              "    x.observe(notebookContainer, {childList: true});\n",
              "}}\n",
              "\n",
              "// Listen for the clearing of the current output cell\n",
              "var outputEl = gd.closest('.output');\n",
              "if (outputEl) {{\n",
              "    x.observe(outputEl, {childList: true});\n",
              "}}\n",
              "\n",
              "                        })                };                            </script>        </div>\n",
              "</body>\n",
              "</html>"
            ]
          },
          "metadata": {}
        },
        {
          "output_type": "stream",
          "name": "stdout",
          "text": [
            "Number of nodes: 17\n",
            "Number of edges: 38\n",
            "Is graph directed? False\n",
            "Graph label: tensor([1])\n"
          ]
        }
      ]
    },
    {
      "cell_type": "code",
      "source": [
        "import torch\n",
        "import plotly.graph_objs as go\n",
        "import networkx as nx\n",
        "from torch_geometric.utils import to_networkx\n",
        "import numpy as np\n",
        "import matplotlib.pyplot as plt\n",
        "\n",
        "single_graph = dataset[4]\n",
        "# Assuming you already have the graph data loaded as `single_graph`\n",
        "# Convert the first graph in the dataset to NetworkX.\n",
        "G = to_networkx(single_graph, to_undirected=True)\n",
        "\n",
        "# Extract the node feature matrix\n",
        "node_features = single_graph.x  # Shape: [num_nodes, num_features]\n",
        "\n",
        "# Convert one-hot encoded node features to atom types (indices)\n",
        "node_colors = torch.argmax(node_features, dim=1).numpy()\n",
        "\n",
        "# Define atom labels and fixed colormap\n",
        "atom_labels = ['C', 'N', 'O', 'F', 'I', 'Cl', 'Br']\n",
        "fixed_colors = {\n",
        "    'C': 'rgba(0, 255, 0, 1)',  # Green\n",
        "    'N': 'rgba(255, 0, 0, 1)',  # Red\n",
        "    'O': 'rgba(0, 0, 255, 1)',  # Blue\n",
        "    'F': 'rgba(255, 255, 0, 1)',  # Yellow\n",
        "    'I': 'rgba(128, 0, 128, 1)',  # Purple\n",
        "    'Cl': 'rgba(255, 165, 0, 1)',  # Orange\n",
        "    'Br': 'rgba(75, 0, 130, 1)'   # Indigo\n",
        "}\n",
        "\n",
        "# Generate 3D layout\n",
        "pos_3d = nx.spring_layout(G, dim=3, seed=42)\n",
        "\n",
        "# Extract node labels based on atom types\n",
        "node_labels = []\n",
        "node_colors_plotly = []\n",
        "for node in G.nodes():\n",
        "    atom_type = atom_labels[node_colors[node]]\n",
        "    node_labels.append(atom_type)\n",
        "    plotly_color = fixed_colors[atom_type]\n",
        "    node_colors_plotly.append(plotly_color)\n",
        "\n",
        "# Prepare edge trace for 3D visualization\n",
        "edge_x_3d = []\n",
        "edge_y_3d = []\n",
        "edge_z_3d = []\n",
        "for edge in G.edges():\n",
        "    x0, y0, z0 = pos_3d[edge[0]]\n",
        "    x1, y1, z1 = pos_3d[edge[1]]\n",
        "    edge_x_3d.extend([x0, x1, None])\n",
        "    edge_y_3d.extend([y0, y1, None])\n",
        "    edge_z_3d.extend([z0, z1, None])\n",
        "\n",
        "edge_trace_3d = go.Scatter3d(\n",
        "    x=edge_x_3d, y=edge_y_3d, z=edge_z_3d,\n",
        "    line=dict(width=0.5, color='#888'),\n",
        "    hoverinfo='none',\n",
        "    mode='lines'\n",
        ")\n",
        "\n",
        "# Prepare node trace for 3D visualization\n",
        "node_x_3d = []\n",
        "node_y_3d = []\n",
        "node_z_3d = []\n",
        "for node in G.nodes():\n",
        "    x, y, z = pos_3d[node]\n",
        "    node_x_3d.append(x)\n",
        "    node_y_3d.append(y)\n",
        "    node_z_3d.append(z)\n",
        "\n",
        "node_trace_3d = go.Scatter3d(\n",
        "    x=node_x_3d, y=node_y_3d, z=node_z_3d,\n",
        "    mode='markers+text',\n",
        "    hoverinfo='text',\n",
        "    marker=dict(\n",
        "        size=10,\n",
        "        color=node_colors_plotly,\n",
        "    ),\n",
        "    text=node_labels,\n",
        "    textposition=\"top center\"\n",
        ")\n",
        "\n",
        "# 3D Visualization\n",
        "fig_3d = go.Figure(data=[edge_trace_3d, node_trace_3d],\n",
        "                   layout=go.Layout(\n",
        "                       title=\"3D Visualization of Graph 0\",\n",
        "                       showlegend=False,\n",
        "                       margin=dict(b=0, l=0, r=0, t=40),\n",
        "                       scene=dict(\n",
        "                           xaxis=dict(showticklabels=False),\n",
        "                           yaxis=dict(showticklabels=False),\n",
        "                           zaxis=dict(showticklabels=False)\n",
        "                       )\n",
        "                   ))\n",
        "fig_3d.show()\n",
        "\n",
        "# Analyze graph properties\n",
        "print(f\"Number of nodes: {single_graph.num_nodes}\")\n",
        "print(f\"Number of edges: {single_graph.num_edges}\")\n",
        "print(f\"Is graph directed? {single_graph.is_directed()}\")\n",
        "print(f\"Graph label: {single_graph.y}\")\n"
      ],
      "metadata": {
        "colab": {
          "base_uri": "https://localhost:8080/",
          "height": 613
        },
        "id": "8dRhlu6ZsP6R",
        "outputId": "e7df3fee-faa7-4412-cca3-994d157315e9"
      },
      "execution_count": 19,
      "outputs": [
        {
          "output_type": "display_data",
          "data": {
            "text/html": [
              "<html>\n",
              "<head><meta charset=\"utf-8\" /></head>\n",
              "<body>\n",
              "    <div>            <script src=\"https://cdnjs.cloudflare.com/ajax/libs/mathjax/2.7.5/MathJax.js?config=TeX-AMS-MML_SVG\"></script><script type=\"text/javascript\">if (window.MathJax && window.MathJax.Hub && window.MathJax.Hub.Config) {window.MathJax.Hub.Config({SVG: {font: \"STIX-Web\"}});}</script>                <script type=\"text/javascript\">window.PlotlyConfig = {MathJaxConfig: 'local'};</script>\n",
              "        <script charset=\"utf-8\" src=\"https://cdn.plot.ly/plotly-2.35.2.min.js\"></script>                <div id=\"5ff572e5-8205-4cd5-a012-52570b113e1a\" class=\"plotly-graph-div\" style=\"height:525px; width:100%;\"></div>            <script type=\"text/javascript\">                                    window.PLOTLYENV=window.PLOTLYENV || {};                                    if (document.getElementById(\"5ff572e5-8205-4cd5-a012-52570b113e1a\")) {                    Plotly.newPlot(                        \"5ff572e5-8205-4cd5-a012-52570b113e1a\",                        [{\"hoverinfo\":\"none\",\"line\":{\"color\":\"#888\",\"width\":0.5},\"mode\":\"lines\",\"x\":[0.02458546069025762,-0.2497724533846732,null,0.02458546069025762,0.3506783398707835,null,-0.2497724533846732,-0.33870899413810185,null,-0.33870899413810185,-0.007160738692036449,null,-0.33870899413810185,-0.6893228619804218,null,-0.007160738692036449,0.2481327865347945,null,-0.007160738692036449,0.018497996295593084,null,0.2481327865347945,0.3506783398707835,null,0.3506783398707835,0.5873156864975905,null,0.018497996295593084,-0.08369490102825228,null,0.018497996295593084,0.13944967933446725,null],\"y\":[-0.13351455396521839,-0.050148520252982914,null,-0.13351455396521839,-0.1888365195744066,null,-0.050148520252982914,0.0059437570218711195,null,0.0059437570218711195,0.048923917773303786,null,0.0059437570218711195,-0.010695959720479414,null,0.048923917773303786,-0.0775316434784458,null,0.048923917773303786,0.183619246357252,null,-0.0775316434784458,-0.1888365195744066,null,-0.1888365195744066,-0.3092693102440526,null,0.183619246357252,0.40499888411238844,null,0.183619246357252,0.12651070197077038,null],\"z\":[0.6640739399357102,0.45847939511230384,null,0.6640739399357102,0.5594011291999086,null,0.45847939511230384,0.0871366963812924,null,0.0871366963812924,-0.1966109723140789,null,0.0871366963812924,0.07226906111168803,null,-0.1966109723140789,0.1586094094460366,null,-0.1966109723140789,-0.6772928364646472,null,0.1586094094460366,0.5594011291999086,null,0.5594011291999086,0.8034406719279515,null,-0.6772928364646472,-0.9295064943361648,null,-0.6772928364646472,-1.0,null],\"type\":\"scatter3d\"},{\"hoverinfo\":\"text\",\"marker\":{\"color\":[\"rgba(0, 255, 0, 1)\",\"rgba(0, 255, 0, 1)\",\"rgba(0, 255, 0, 1)\",\"rgba(0, 255, 0, 1)\",\"rgba(0, 255, 0, 1)\",\"rgba(0, 255, 0, 1)\",\"rgba(255, 255, 0, 1)\",\"rgba(255, 0, 0, 1)\",\"rgba(0, 0, 255, 1)\",\"rgba(0, 0, 255, 1)\",\"rgba(255, 255, 0, 1)\"],\"size\":10},\"mode\":\"markers+text\",\"text\":[\"C\",\"C\",\"C\",\"C\",\"C\",\"C\",\"F\",\"N\",\"O\",\"O\",\"F\"],\"textposition\":\"top center\",\"x\":[0.02458546069025762,-0.2497724533846732,-0.33870899413810185,-0.007160738692036449,0.2481327865347945,0.3506783398707835,0.5873156864975905,0.018497996295593084,-0.08369490102825228,0.13944967933446725,-0.6893228619804218],\"y\":[-0.13351455396521839,-0.050148520252982914,0.0059437570218711195,0.048923917773303786,-0.0775316434784458,-0.1888365195744066,-0.3092693102440526,0.183619246357252,0.40499888411238844,0.12651070197077038,-0.010695959720479414],\"z\":[0.6640739399357102,0.45847939511230384,0.0871366963812924,-0.1966109723140789,0.1586094094460366,0.5594011291999086,0.8034406719279515,-0.6772928364646472,-0.9295064943361648,-1.0,0.07226906111168803],\"type\":\"scatter3d\"}],                        {\"margin\":{\"b\":0,\"l\":0,\"r\":0,\"t\":40},\"scene\":{\"xaxis\":{\"showticklabels\":false},\"yaxis\":{\"showticklabels\":false},\"zaxis\":{\"showticklabels\":false}},\"showlegend\":false,\"title\":{\"text\":\"3D Visualization of Graph 0\"},\"template\":{\"data\":{\"histogram2dcontour\":[{\"type\":\"histogram2dcontour\",\"colorbar\":{\"outlinewidth\":0,\"ticks\":\"\"},\"colorscale\":[[0.0,\"#0d0887\"],[0.1111111111111111,\"#46039f\"],[0.2222222222222222,\"#7201a8\"],[0.3333333333333333,\"#9c179e\"],[0.4444444444444444,\"#bd3786\"],[0.5555555555555556,\"#d8576b\"],[0.6666666666666666,\"#ed7953\"],[0.7777777777777778,\"#fb9f3a\"],[0.8888888888888888,\"#fdca26\"],[1.0,\"#f0f921\"]]}],\"choropleth\":[{\"type\":\"choropleth\",\"colorbar\":{\"outlinewidth\":0,\"ticks\":\"\"}}],\"histogram2d\":[{\"type\":\"histogram2d\",\"colorbar\":{\"outlinewidth\":0,\"ticks\":\"\"},\"colorscale\":[[0.0,\"#0d0887\"],[0.1111111111111111,\"#46039f\"],[0.2222222222222222,\"#7201a8\"],[0.3333333333333333,\"#9c179e\"],[0.4444444444444444,\"#bd3786\"],[0.5555555555555556,\"#d8576b\"],[0.6666666666666666,\"#ed7953\"],[0.7777777777777778,\"#fb9f3a\"],[0.8888888888888888,\"#fdca26\"],[1.0,\"#f0f921\"]]}],\"heatmap\":[{\"type\":\"heatmap\",\"colorbar\":{\"outlinewidth\":0,\"ticks\":\"\"},\"colorscale\":[[0.0,\"#0d0887\"],[0.1111111111111111,\"#46039f\"],[0.2222222222222222,\"#7201a8\"],[0.3333333333333333,\"#9c179e\"],[0.4444444444444444,\"#bd3786\"],[0.5555555555555556,\"#d8576b\"],[0.6666666666666666,\"#ed7953\"],[0.7777777777777778,\"#fb9f3a\"],[0.8888888888888888,\"#fdca26\"],[1.0,\"#f0f921\"]]}],\"heatmapgl\":[{\"type\":\"heatmapgl\",\"colorbar\":{\"outlinewidth\":0,\"ticks\":\"\"},\"colorscale\":[[0.0,\"#0d0887\"],[0.1111111111111111,\"#46039f\"],[0.2222222222222222,\"#7201a8\"],[0.3333333333333333,\"#9c179e\"],[0.4444444444444444,\"#bd3786\"],[0.5555555555555556,\"#d8576b\"],[0.6666666666666666,\"#ed7953\"],[0.7777777777777778,\"#fb9f3a\"],[0.8888888888888888,\"#fdca26\"],[1.0,\"#f0f921\"]]}],\"contourcarpet\":[{\"type\":\"contourcarpet\",\"colorbar\":{\"outlinewidth\":0,\"ticks\":\"\"}}],\"contour\":[{\"type\":\"contour\",\"colorbar\":{\"outlinewidth\":0,\"ticks\":\"\"},\"colorscale\":[[0.0,\"#0d0887\"],[0.1111111111111111,\"#46039f\"],[0.2222222222222222,\"#7201a8\"],[0.3333333333333333,\"#9c179e\"],[0.4444444444444444,\"#bd3786\"],[0.5555555555555556,\"#d8576b\"],[0.6666666666666666,\"#ed7953\"],[0.7777777777777778,\"#fb9f3a\"],[0.8888888888888888,\"#fdca26\"],[1.0,\"#f0f921\"]]}],\"surface\":[{\"type\":\"surface\",\"colorbar\":{\"outlinewidth\":0,\"ticks\":\"\"},\"colorscale\":[[0.0,\"#0d0887\"],[0.1111111111111111,\"#46039f\"],[0.2222222222222222,\"#7201a8\"],[0.3333333333333333,\"#9c179e\"],[0.4444444444444444,\"#bd3786\"],[0.5555555555555556,\"#d8576b\"],[0.6666666666666666,\"#ed7953\"],[0.7777777777777778,\"#fb9f3a\"],[0.8888888888888888,\"#fdca26\"],[1.0,\"#f0f921\"]]}],\"mesh3d\":[{\"type\":\"mesh3d\",\"colorbar\":{\"outlinewidth\":0,\"ticks\":\"\"}}],\"scatter\":[{\"fillpattern\":{\"fillmode\":\"overlay\",\"size\":10,\"solidity\":0.2},\"type\":\"scatter\"}],\"parcoords\":[{\"type\":\"parcoords\",\"line\":{\"colorbar\":{\"outlinewidth\":0,\"ticks\":\"\"}}}],\"scatterpolargl\":[{\"type\":\"scatterpolargl\",\"marker\":{\"colorbar\":{\"outlinewidth\":0,\"ticks\":\"\"}}}],\"bar\":[{\"error_x\":{\"color\":\"#2a3f5f\"},\"error_y\":{\"color\":\"#2a3f5f\"},\"marker\":{\"line\":{\"color\":\"#E5ECF6\",\"width\":0.5},\"pattern\":{\"fillmode\":\"overlay\",\"size\":10,\"solidity\":0.2}},\"type\":\"bar\"}],\"scattergeo\":[{\"type\":\"scattergeo\",\"marker\":{\"colorbar\":{\"outlinewidth\":0,\"ticks\":\"\"}}}],\"scatterpolar\":[{\"type\":\"scatterpolar\",\"marker\":{\"colorbar\":{\"outlinewidth\":0,\"ticks\":\"\"}}}],\"histogram\":[{\"marker\":{\"pattern\":{\"fillmode\":\"overlay\",\"size\":10,\"solidity\":0.2}},\"type\":\"histogram\"}],\"scattergl\":[{\"type\":\"scattergl\",\"marker\":{\"colorbar\":{\"outlinewidth\":0,\"ticks\":\"\"}}}],\"scatter3d\":[{\"type\":\"scatter3d\",\"line\":{\"colorbar\":{\"outlinewidth\":0,\"ticks\":\"\"}},\"marker\":{\"colorbar\":{\"outlinewidth\":0,\"ticks\":\"\"}}}],\"scattermapbox\":[{\"type\":\"scattermapbox\",\"marker\":{\"colorbar\":{\"outlinewidth\":0,\"ticks\":\"\"}}}],\"scatterternary\":[{\"type\":\"scatterternary\",\"marker\":{\"colorbar\":{\"outlinewidth\":0,\"ticks\":\"\"}}}],\"scattercarpet\":[{\"type\":\"scattercarpet\",\"marker\":{\"colorbar\":{\"outlinewidth\":0,\"ticks\":\"\"}}}],\"carpet\":[{\"aaxis\":{\"endlinecolor\":\"#2a3f5f\",\"gridcolor\":\"white\",\"linecolor\":\"white\",\"minorgridcolor\":\"white\",\"startlinecolor\":\"#2a3f5f\"},\"baxis\":{\"endlinecolor\":\"#2a3f5f\",\"gridcolor\":\"white\",\"linecolor\":\"white\",\"minorgridcolor\":\"white\",\"startlinecolor\":\"#2a3f5f\"},\"type\":\"carpet\"}],\"table\":[{\"cells\":{\"fill\":{\"color\":\"#EBF0F8\"},\"line\":{\"color\":\"white\"}},\"header\":{\"fill\":{\"color\":\"#C8D4E3\"},\"line\":{\"color\":\"white\"}},\"type\":\"table\"}],\"barpolar\":[{\"marker\":{\"line\":{\"color\":\"#E5ECF6\",\"width\":0.5},\"pattern\":{\"fillmode\":\"overlay\",\"size\":10,\"solidity\":0.2}},\"type\":\"barpolar\"}],\"pie\":[{\"automargin\":true,\"type\":\"pie\"}]},\"layout\":{\"autotypenumbers\":\"strict\",\"colorway\":[\"#636efa\",\"#EF553B\",\"#00cc96\",\"#ab63fa\",\"#FFA15A\",\"#19d3f3\",\"#FF6692\",\"#B6E880\",\"#FF97FF\",\"#FECB52\"],\"font\":{\"color\":\"#2a3f5f\"},\"hovermode\":\"closest\",\"hoverlabel\":{\"align\":\"left\"},\"paper_bgcolor\":\"white\",\"plot_bgcolor\":\"#E5ECF6\",\"polar\":{\"bgcolor\":\"#E5ECF6\",\"angularaxis\":{\"gridcolor\":\"white\",\"linecolor\":\"white\",\"ticks\":\"\"},\"radialaxis\":{\"gridcolor\":\"white\",\"linecolor\":\"white\",\"ticks\":\"\"}},\"ternary\":{\"bgcolor\":\"#E5ECF6\",\"aaxis\":{\"gridcolor\":\"white\",\"linecolor\":\"white\",\"ticks\":\"\"},\"baxis\":{\"gridcolor\":\"white\",\"linecolor\":\"white\",\"ticks\":\"\"},\"caxis\":{\"gridcolor\":\"white\",\"linecolor\":\"white\",\"ticks\":\"\"}},\"coloraxis\":{\"colorbar\":{\"outlinewidth\":0,\"ticks\":\"\"}},\"colorscale\":{\"sequential\":[[0.0,\"#0d0887\"],[0.1111111111111111,\"#46039f\"],[0.2222222222222222,\"#7201a8\"],[0.3333333333333333,\"#9c179e\"],[0.4444444444444444,\"#bd3786\"],[0.5555555555555556,\"#d8576b\"],[0.6666666666666666,\"#ed7953\"],[0.7777777777777778,\"#fb9f3a\"],[0.8888888888888888,\"#fdca26\"],[1.0,\"#f0f921\"]],\"sequentialminus\":[[0.0,\"#0d0887\"],[0.1111111111111111,\"#46039f\"],[0.2222222222222222,\"#7201a8\"],[0.3333333333333333,\"#9c179e\"],[0.4444444444444444,\"#bd3786\"],[0.5555555555555556,\"#d8576b\"],[0.6666666666666666,\"#ed7953\"],[0.7777777777777778,\"#fb9f3a\"],[0.8888888888888888,\"#fdca26\"],[1.0,\"#f0f921\"]],\"diverging\":[[0,\"#8e0152\"],[0.1,\"#c51b7d\"],[0.2,\"#de77ae\"],[0.3,\"#f1b6da\"],[0.4,\"#fde0ef\"],[0.5,\"#f7f7f7\"],[0.6,\"#e6f5d0\"],[0.7,\"#b8e186\"],[0.8,\"#7fbc41\"],[0.9,\"#4d9221\"],[1,\"#276419\"]]},\"xaxis\":{\"gridcolor\":\"white\",\"linecolor\":\"white\",\"ticks\":\"\",\"title\":{\"standoff\":15},\"zerolinecolor\":\"white\",\"automargin\":true,\"zerolinewidth\":2},\"yaxis\":{\"gridcolor\":\"white\",\"linecolor\":\"white\",\"ticks\":\"\",\"title\":{\"standoff\":15},\"zerolinecolor\":\"white\",\"automargin\":true,\"zerolinewidth\":2},\"scene\":{\"xaxis\":{\"backgroundcolor\":\"#E5ECF6\",\"gridcolor\":\"white\",\"linecolor\":\"white\",\"showbackground\":true,\"ticks\":\"\",\"zerolinecolor\":\"white\",\"gridwidth\":2},\"yaxis\":{\"backgroundcolor\":\"#E5ECF6\",\"gridcolor\":\"white\",\"linecolor\":\"white\",\"showbackground\":true,\"ticks\":\"\",\"zerolinecolor\":\"white\",\"gridwidth\":2},\"zaxis\":{\"backgroundcolor\":\"#E5ECF6\",\"gridcolor\":\"white\",\"linecolor\":\"white\",\"showbackground\":true,\"ticks\":\"\",\"zerolinecolor\":\"white\",\"gridwidth\":2}},\"shapedefaults\":{\"line\":{\"color\":\"#2a3f5f\"}},\"annotationdefaults\":{\"arrowcolor\":\"#2a3f5f\",\"arrowhead\":0,\"arrowwidth\":1},\"geo\":{\"bgcolor\":\"white\",\"landcolor\":\"#E5ECF6\",\"subunitcolor\":\"white\",\"showland\":true,\"showlakes\":true,\"lakecolor\":\"white\"},\"title\":{\"x\":0.05},\"mapbox\":{\"style\":\"light\"}}}},                        {\"responsive\": true}                    ).then(function(){\n",
              "                            \n",
              "var gd = document.getElementById('5ff572e5-8205-4cd5-a012-52570b113e1a');\n",
              "var x = new MutationObserver(function (mutations, observer) {{\n",
              "        var display = window.getComputedStyle(gd).display;\n",
              "        if (!display || display === 'none') {{\n",
              "            console.log([gd, 'removed!']);\n",
              "            Plotly.purge(gd);\n",
              "            observer.disconnect();\n",
              "        }}\n",
              "}});\n",
              "\n",
              "// Listen for the removal of the full notebook cells\n",
              "var notebookContainer = gd.closest('#notebook-container');\n",
              "if (notebookContainer) {{\n",
              "    x.observe(notebookContainer, {childList: true});\n",
              "}}\n",
              "\n",
              "// Listen for the clearing of the current output cell\n",
              "var outputEl = gd.closest('.output');\n",
              "if (outputEl) {{\n",
              "    x.observe(outputEl, {childList: true});\n",
              "}}\n",
              "\n",
              "                        })                };                            </script>        </div>\n",
              "</body>\n",
              "</html>"
            ]
          },
          "metadata": {}
        },
        {
          "output_type": "stream",
          "name": "stdout",
          "text": [
            "Number of nodes: 11\n",
            "Number of edges: 22\n",
            "Is graph directed? False\n",
            "Graph label: tensor([0])\n"
          ]
        }
      ]
    },
    {
      "cell_type": "code",
      "source": [
        "i = 0\n",
        "for d in dataset:\n",
        "  if d.x[:, 4].sum().item() > 0:\n",
        "    print(i)\n",
        "  i+=1"
      ],
      "metadata": {
        "colab": {
          "base_uri": "https://localhost:8080/"
        },
        "id": "1ojHYP6z7XqZ",
        "outputId": "89b635bd-e29d-44e3-aa34-4b5db9d87516"
      },
      "execution_count": 20,
      "outputs": [
        {
          "output_type": "stream",
          "name": "stdout",
          "text": [
            "21\n"
          ]
        }
      ]
    },
    {
      "cell_type": "markdown",
      "source": [
        "### GNN MODEL"
      ],
      "metadata": {
        "id": "ztZVpElEp1NI"
      }
    },
    {
      "cell_type": "code",
      "source": [
        "import random\n",
        "import copy\n",
        "import numpy as np\n",
        "import torch\n",
        "import torch.nn as nn\n",
        "import torch.nn.functional as F\n",
        "\n",
        "from torch_geometric.nn import GCNConv, global_mean_pool\n",
        "\n",
        "class GCN(torch.nn.Module):\n",
        "    def __init__(self, node_feature_dim: int, num_class: int, dropout: float = 0.1):\n",
        "        super(GCN, self).__init__()\n",
        "        self.gc1 = GCNConv(node_feature_dim, 32, add_self_loops=True, normalize=True)\n",
        "        self.gc2 = GCNConv(32, 48, add_self_loops=True, normalize=True)\n",
        "        self.gc3 = GCNConv(48, 64, add_self_loops=True, normalize=True)\n",
        "\n",
        "        # Final classifier containing two fully connected layers\n",
        "        self.fc1 = torch.nn.Linear(64, 32)\n",
        "        self.fc2 = torch.nn.Linear(32, num_class)\n",
        "        self.dropout = dropout\n",
        "\n",
        "    def forward(self, x, edge_index, batch=None):\n",
        "        x = F.relu(self.gc1(x, edge_index))\n",
        "        x = F.dropout(x, p=self.dropout, training=self.training)\n",
        "        x = F.relu(self.gc2(x, edge_index))\n",
        "        x = F.dropout(x, p=self.dropout, training=self.training)\n",
        "        x = F.relu(self.gc3(x, edge_index))\n",
        "        x = F.dropout(x, p=self.dropout, training=self.training)\n",
        "\n",
        "        # If batch is provided, do global mean pooling, else pool all nodes (single graph)\n",
        "        if batch is not None:\n",
        "            x = global_mean_pool(x, batch)\n",
        "        else:\n",
        "            x = x.mean(dim=0, keepdim=True)\n",
        "\n",
        "        # Final classification\n",
        "        x = F.relu(self.fc1(x))\n",
        "        x = self.fc2(x)\n",
        "        return x"
      ],
      "metadata": {
        "id": "JGQ-uM_kp2qX"
      },
      "execution_count": 21,
      "outputs": []
    },
    {
      "cell_type": "code",
      "source": [
        "# Training loop for MUTAG dataset\n",
        "from torch.optim import Adam\n",
        "\n",
        "def train_gcn(dataset, lr, batch_size, epochs):\n",
        "    # Load MUTAG dataset\n",
        "    train_loader = DataLoader(dataset, batch_size=batch_size, shuffle=True)\n",
        "\n",
        "    # Initialize the model, optimizer, and loss function\n",
        "    device = torch.device('cuda' if torch.cuda.is_available() else 'cpu')\n",
        "    model = GCN(node_feature_dim=dataset.num_features, num_class=dataset.num_classes).to(device)\n",
        "    optimizer = Adam(model.parameters(), lr=lr, weight_decay=5e-4)\n",
        "\n",
        "    # Training process\n",
        "    model.train()\n",
        "    for epoch in range(epochs):\n",
        "        total_loss = 0\n",
        "        for data in train_loader:\n",
        "            data = data.to(device)\n",
        "            optimizer.zero_grad()\n",
        "            out = model(data.x, data.edge_index, data.batch)\n",
        "            loss = F.cross_entropy(out, data.y)\n",
        "            loss.backward()\n",
        "            optimizer.step()\n",
        "            total_loss += loss.item() * data.num_graphs\n",
        "        if epoch % 100 == 0:\n",
        "           print(f'Epoch {epoch + 1}, Loss: {total_loss / len(dataset):.4f}')\n",
        "\n",
        "    # Testing process\n",
        "    model.eval()\n",
        "    correct = 0\n",
        "    for data in train_loader:\n",
        "        data = data.to(device)\n",
        "        out = model(data.x, data.edge_index, data.batch)\n",
        "        pred = out.argmax(dim=1)\n",
        "        correct += (pred == data.y).sum().item()\n",
        "    accuracy = correct / len(dataset)\n",
        "    print(f'Training Set Accuracy: {accuracy:.4f}')\n",
        "    torch.save(model.state_dict(), './gcn_first.pth')\n",
        "\n",
        "if __name__ == \"__main__\":\n",
        "    train_gcn(dataset, lr = 0.001, batch_size = 32, epochs = 1000)"
      ],
      "metadata": {
        "id": "2agUHSdeerNC",
        "outputId": "f3ebbe38-f7eb-41b8-973c-87c3e05edec9",
        "colab": {
          "base_uri": "https://localhost:8080/"
        }
      },
      "execution_count": 22,
      "outputs": [
        {
          "output_type": "stream",
          "name": "stdout",
          "text": [
            "Epoch 1, Loss: 0.6741\n",
            "Epoch 101, Loss: 0.4956\n",
            "Epoch 201, Loss: 0.4963\n",
            "Epoch 301, Loss: 0.4748\n",
            "Epoch 401, Loss: 0.4530\n",
            "Epoch 501, Loss: 0.4363\n",
            "Epoch 601, Loss: 0.4434\n",
            "Epoch 701, Loss: 0.4120\n",
            "Epoch 801, Loss: 0.4225\n",
            "Epoch 901, Loss: 0.4275\n",
            "Training Set Accuracy: 0.8298\n"
          ]
        }
      ]
    },
    {
      "cell_type": "markdown",
      "source": [
        "### GRAPH GENERATOR"
      ],
      "metadata": {
        "id": "UcFDzaHOpvxe"
      }
    },
    {
      "cell_type": "code",
      "execution_count": 162,
      "metadata": {
        "id": "OlikZDjJpDyU"
      },
      "outputs": [],
      "source": [
        "class Generator(nn.Module):\n",
        "    def __init__(self, model_path: str, C: list, num_class=2, c=0, max_nodes=5, hyp1=1, hyp2=2, start=None, nfeat=7, dropout=0.1):\n",
        "        \"\"\"\n",
        "        :param C: Candidate set of nodes (list)\n",
        "        :param start: Starting node (defaults to randomized node)\n",
        "        \"\"\"\n",
        "        super(Generator, self).__init__()\n",
        "        self.dropout = dropout\n",
        "        self.max_nodes = max_nodes\n",
        "        self.num_class = num_class\n",
        "        self.c = c  # c is the specific class of graph to be generated\n",
        "\n",
        "        self.fc = nn.Linear(nfeat, 8)\n",
        "        self.gc1 = GCNConv(8, 16, add_self_loops=True, normalize=True)\n",
        "        self.gc2 = GCNConv(16, 24, add_self_loops=True, normalize=True)\n",
        "        self.gc3 = GCNConv(24, 32, add_self_loops=True, normalize=True)\n",
        "\n",
        "        # MLP1 - 2 FC layers with hidden dimension 16\n",
        "        self.mlp1 = nn.Sequential(nn.Linear(32, 16), nn.Linear(16, 1))\n",
        "\n",
        "        # MLP2 - 2 FC layers with hidden dimension 24\n",
        "        self.mlp2 = nn.Sequential(nn.Linear(64, 24), nn.Linear(24, 1))\n",
        "\n",
        "        # Hyperparameters\n",
        "        self.hyp1 = hyp1\n",
        "        self.hyp2 = hyp2\n",
        "        self.candidate_set = C\n",
        "\n",
        "        # Default starting node (if any)\n",
        "        if start is not None:\n",
        "            self.start = start\n",
        "            self.random_start = False\n",
        "        else:\n",
        "            self.start = random.choice(np.arange(0, len(self.candidate_set)))\n",
        "            self.random_start = True\n",
        "\n",
        "        # Load GCN for calculating reward (placeholder GCN, replace with your actual model)\n",
        "        self.model = GCN(node_feature_dim=nfeat, num_class=num_class, dropout=dropout)\n",
        "        self.model.load_state_dict(torch.load(model_path))\n",
        "        for param in self.model.parameters():\n",
        "            param.requires_grad = False\n",
        "\n",
        "        self.reset_graph()\n",
        "\n",
        "    def reset_graph(self):\n",
        "        \"\"\"\n",
        "        Reset g.G to default graph with only the start node.\n",
        "        \"\"\"\n",
        "        if self.random_start:\n",
        "            self.start = random.choice(np.arange(0, len(self.candidate_set)))\n",
        "\n",
        "        # Create feature matrix with a single starting node\n",
        "        feat = torch.zeros((1, len(self.candidate_set)), dtype=torch.float32)\n",
        "        feat[0, self.start] = 1  # One-hot encoding for the starting node\n",
        "\n",
        "        # Start with an empty edge index (self-loops will be added automatically by GCN layers)\n",
        "        edge_index = torch.empty((2, 0), dtype=torch.long)\n",
        "\n",
        "        degrees = torch.tensor([0]) # the degree of each node in the graph, at the start only 1 node with no edges so \"0\"\n",
        "\n",
        "        self.G = {'feat': feat, 'edge_index': edge_index, 'num_nodes': 1, 'degrees': degrees}\n",
        "\n",
        "    ## Calculate Gt -> Gt+1\n",
        "    def forward(self, G_in):\n",
        "        ## G_in is Gt\n",
        "        G = copy.deepcopy(G_in)\n",
        "\n",
        "        # Expand feature matrix to include candidate nodes\n",
        "        candidate_feats = torch.eye(len(self.candidate_set), dtype=torch.float32)\n",
        "        x = torch.cat((G['feat'], candidate_feats), dim=0)\n",
        "\n",
        "        # No need to manually add self-loops for candidate nodes or others\n",
        "        edge_index = G['edge_index']\n",
        "\n",
        "        ## Corresponds to X = GCNs(Gt, C)\n",
        "        x = F.relu6(self.fc(x))\n",
        "        x = F.dropout(x, self.dropout, training=self.training)\n",
        "        x = F.relu6(self.gc1(x, edge_index))\n",
        "        x = F.dropout(x, self.dropout, training=self.training)\n",
        "        x = F.relu6(self.gc2(x, edge_index))\n",
        "        x = F.dropout(x, self.dropout, training=self.training)\n",
        "        x = F.relu6(self.gc3(x, edge_index))\n",
        "        x = F.dropout(x, self.dropout, training=self.training)\n",
        "\n",
        "        ## pt,start = Softmax(MLPs(X))\n",
        "        p_start = self.mlp1(x)\n",
        "        p_start = F.log_softmax(p_start, dim=0)\n",
        "\n",
        "        # Create mask_start - only candidate nodes are masked, original nodes are unmasked\n",
        "        mask_start = torch.BoolTensor([False] * G['num_nodes'] + [True] * len(self.candidate_set))\n",
        "        mask_start = mask_start.view(-1, 1)\n",
        "        #mask_start = mask_start.view_as(p_start)  # Ensure mask_start has the same shape as p_start\n",
        "        a_start_idx = torch.argmax(p_start.masked_fill(mask_start, -1e8))\n",
        "\n",
        "        ## pt,end = Softmax(MLPs([X, x^start]))\n",
        "        # Broadcast start node features along with all candidate nodes\n",
        "        x1, x2 = torch.broadcast_tensors(x, x[a_start_idx])\n",
        "        x_combined = torch.cat((x1, x2), 1)  # Concatenate for combined features\n",
        "\n",
        "        # Calculate mask_end - mask only the starting node, keep others (including candidate nodes) unmasked\n",
        "        mask_end = torch.BoolTensor([False for _ in range(G['num_nodes'] + len(self.candidate_set))])\n",
        "        mask_end[a_start_idx] = True\n",
        "        mask_end = mask_end.view(-1, 1)\n",
        "        #mask_end = mask_end.view_as(p_end)  # Ensure mask_end has the same shape as p_end\n",
        "\n",
        "        p_end = self.mlp2(x_combined)\n",
        "        p_end = F.log_softmax(p_end, dim=0)\n",
        "        a_end_idx = torch.argmax(p_end.masked_fill(mask_end, -1e8))\n",
        "\n",
        "        # If end-node is from candidate set, add it to the graph\n",
        "        if a_end_idx >= G['num_nodes']:\n",
        "            new_node_feat = torch.cat((G['feat'], candidate_feats), dim=0)[a_end_idx].unsqueeze(0)\n",
        "\n",
        "            # Add new node to feature matrix\n",
        "            G['feat'] = torch.cat((G['feat'], new_node_feat), dim=0)\n",
        "\n",
        "            # Update edge index to add edges between start and end nodes\n",
        "            new_edges = torch.tensor(\n",
        "                [[a_start_idx, G['num_nodes']], [G['num_nodes'], a_start_idx]],\n",
        "                dtype=torch.long\n",
        "            )\n",
        "            G['edge_index'] = torch.cat((G['edge_index'], new_edges), dim=1)\n",
        "\n",
        "            # Update degree of starting node and add the one for ending node\n",
        "            G['degrees'] = torch.cat((G['degrees'], torch.tensor([1])), dim=0)\n",
        "            G['degrees'][a_start_idx] += 1\n",
        "\n",
        "            # Update number of nodes\n",
        "            G['num_nodes'] += 1\n",
        "\n",
        "        else:\n",
        "            # Update edge index to add an edge between start and existing end nodes\n",
        "            new_edges = torch.tensor(\n",
        "                [[a_start_idx, a_end_idx], [a_end_idx, a_start_idx]],\n",
        "                dtype=torch.long\n",
        "            )\n",
        "            G['edge_index'] = torch.cat((G['edge_index'], new_edges), dim=1)\n",
        "\n",
        "            # Update degree of start and end nodes\n",
        "            G['degrees'][a_start_idx] += 1\n",
        "            G['degrees'][a_end_idx] += 1\n",
        "\n",
        "        return p_start, a_start_idx, p_end, a_end_idx, G\n",
        "\n",
        "\n",
        "\n",
        "    ### Reward function\n",
        "    def calculate_reward(self, G_t_1):\n",
        "        \"\"\"\n",
        "        Rtr     Calculated from graph rules to encourage generated graphs to be valid\n",
        "                1. Only one edge to be added between any two nodes\n",
        "                2. Generated graph cannot contain more nodes than predefined maximum node number\n",
        "                3. (For chemical) Degree cannot exceed valency\n",
        "                If generated graph violates graph rule, Rtr = -1\n",
        "\n",
        "        Rtf     Feedback from trained model\n",
        "        \"\"\"\n",
        "\n",
        "        rtr = self.check_graph_rules(G_t_1)\n",
        "\n",
        "        rtf = self.calculate_reward_feedback(G_t_1)\n",
        "        rtf_sum = 0\n",
        "        rollout = 10\n",
        "        for m in range(rollout):\n",
        "            p_start, a_start, p_end, a_end, G_t_1 = self.forward(G_t_1)\n",
        "            rtf_sum += self.calculate_reward_feedback(G_t_1)\n",
        "        rtf = rtf + self.hyp1 * (rtf_sum / rollout)\n",
        "\n",
        "        return rtf + self.hyp2 * rtr\n",
        "\n",
        "    def calculate_reward_feedback(self, G_t_1):\n",
        "        \"\"\"\n",
        "        p(f(G_t_1) = c) - 1/l\n",
        "        where l denotes number of possible classes for f\n",
        "        and f is the external GCN Classifier previously trained\n",
        "        p is just the classifier output probabilities\n",
        "        \"\"\"\n",
        "        self.model.eval()\n",
        "        with torch.no_grad():\n",
        "            output = self.model(G_t_1['feat'], G_t_1['edge_index'])\n",
        "            p = F.softmax(output, dim=1)\n",
        "        return p[0][self.c] - (1 / self.num_class)\n",
        "\n",
        "\n",
        "    ## Graph rules\n",
        "    def check_graph_rules(self, G_t_1):\n",
        "        \"\"\"\n",
        "        For mutag, node degrees cannot exceed valency\n",
        "        \"\"\"\n",
        "        for idx, d in enumerate(G_t_1['degrees']):\n",
        "            if d != 0:\n",
        "                node_id = torch.argmax(G_t_1['feat'][idx])  # Eg. [0, 1, 0, 0] -> 1 (the index)\n",
        "                node = self.candidate_set[node_id]  # Eg ['C.4', 'F.2', 'Br.7'][1] = 'F.2'\n",
        "                max_valency = int(node.split('.')[1])  # Eg. C.4 -> ['C', '4'] -> 4\n",
        "                if d > max_valency:\n",
        "                    return -1\n",
        "\n",
        "        edges = G_t_1['edge_index'].t().tolist()  # Convert to list of edges\n",
        "        edge_set = {tuple(edge) for edge in edges}  # Convert to set of unique edges (preserving the duality for undirected graphs)\n",
        "        if len(edge_set) < len(edges):  # If there are duplicate edges, return -1\n",
        "            return -1\n",
        "\n",
        "        # if the graph has more nodes than max_nodes, return -1\n",
        "        if G_t_1['num_nodes'] > self.max_nodes:\n",
        "            return -1\n",
        "\n",
        "        return 0\n",
        "\n",
        "\n",
        "    ## Calculate loss\n",
        "    def calculate_loss(self, Rt, p_start, a_start, p_end, a_end, G_t_1):\n",
        "        \"\"\"\n",
        "        Calculated from cross entropy loss (Lce) and reward function (Rt)\n",
        "        where loss = Rt*(Lce_start + Lce_end)\n",
        "        Lce_start and Lce_end are cross entropy losses for start and end nodes, respectively\n",
        "        Lce_start is CE using p_start against the chosen a_start\n",
        "        Lce_end is CE using p_end against the chosen a_end\n",
        "        \"\"\"\n",
        "        # nll since we have already computed log_softmax\n",
        "        Lce_start = F.nll_loss(p_start.view(1, -1), a_start.unsqueeze(0))\n",
        "        Lce_end = F.nll_loss(p_end.view(1, -1), a_end.unsqueeze(0))\n",
        "\n",
        "        return Rt * (Lce_start + Lce_end) # ???? original from paper was -Rt * (Lce_start + Lce_end), with minus sign -> it was wrong\n"
      ]
    },
    {
      "cell_type": "code",
      "source": [
        "ed = torch.tensor([[0, 1, 2, 0, 2], [2, 0, 0, 1, 0]])\n",
        "edge_set = {tuple((edge)) for edge in ed.t().tolist()}\n",
        "ed.t().tolist()"
      ],
      "metadata": {
        "id": "anKDSwktNnDv",
        "outputId": "d55ba730-0875-42c6-9df7-54c369f9dda1",
        "colab": {
          "base_uri": "https://localhost:8080/"
        }
      },
      "execution_count": 79,
      "outputs": [
        {
          "output_type": "execute_result",
          "data": {
            "text/plain": [
              "[[0, 2], [1, 0], [2, 0], [0, 1], [2, 0]]"
            ]
          },
          "metadata": {},
          "execution_count": 79
        }
      ]
    },
    {
      "cell_type": "code",
      "source": [
        "edge_set"
      ],
      "metadata": {
        "id": "d2iOB4SNQ49S",
        "outputId": "8ab2452c-77fd-429d-c5c9-1cbf36a453dc",
        "colab": {
          "base_uri": "https://localhost:8080/"
        }
      },
      "execution_count": 80,
      "outputs": [
        {
          "output_type": "execute_result",
          "data": {
            "text/plain": [
              "{(0, 1), (0, 2), (1, 0), (2, 0)}"
            ]
          },
          "metadata": {},
          "execution_count": 80
        }
      ]
    },
    {
      "cell_type": "markdown",
      "source": [
        "### TRAINING GENERATOR"
      ],
      "metadata": {
        "id": "5eXvbB3Vp-2S"
      }
    },
    {
      "cell_type": "code",
      "source": [
        "import torch.optim as optim\n",
        "\n",
        "def train_generator(generator, num_episodes=1000, max_gen_step=8, learning_rate=0.01, b1=0.9, b2=0.999):\n",
        "    \"\"\"\n",
        "    Train the generator to produce graphs that maximize the target GNN's confidence for a given class.\n",
        "\n",
        "    :param generator: An instance of the Generator class\n",
        "    :param num_episodes: Number of training episodes\n",
        "    :param max_gen_step: Maximum steps for generating the graph (e.g., maximum number of nodes)\n",
        "    :param learning_rate: Learning rate for the optimizer\n",
        "    :param b1, b2: Beta parameters for Adam optimizer\n",
        "    \"\"\"\n",
        "    # Set up the optimizer\n",
        "    optimizer = optim.Adam(generator.parameters(), lr=learning_rate, betas=(b1, b2))\n",
        "    R_sum = 0\n",
        "    Loss_sum = 0\n",
        "    count = 0\n",
        "\n",
        "    # Training loop\n",
        "    for episode in range(num_episodes):\n",
        "        # Reset the graph to start from a single node\n",
        "        generator.reset_graph()\n",
        "\n",
        "        for step in range(max_gen_step):\n",
        "            G = copy.deepcopy(generator.G)\n",
        "            # Forward pass: Generate the next step in the graph (Gt -> Gt+1)\n",
        "            p_start, a_start, p_end, a_end, G_t_1 = generator.forward(G)\n",
        "\n",
        "            # Calculate the reward for the generated graph G_t+1\n",
        "            Rt = generator.calculate_reward(G_t_1)\n",
        "            R_sum += Rt\n",
        "            count += 1\n",
        "            # Calculate loss using the reward and generated probabilities\n",
        "            loss = generator.calculate_loss(Rt, p_start, a_start, p_end, a_end, G_t_1)\n",
        "            Loss_sum += loss\n",
        "\n",
        "            # Perform backpropagation and update the generator's parameters\n",
        "            optimizer.zero_grad()\n",
        "            loss.backward()\n",
        "            optimizer.step()\n",
        "\n",
        "            if Rt >= 0:\n",
        "                generator.G = G_t_1\n",
        "\n",
        "        # Logging for debugging or monitoring training progress\n",
        "        if episode % 10 == 0:\n",
        "            print(f\"Episode {episode}/{num_episodes}, mean Loss: {loss/count}, Mean_Reward: {R_sum/count}\")\n",
        "            R_sum, Loss_sum, count = 0, 0, 0\n",
        "\n",
        "    print(\"Training complete.\")\n",
        "\n",
        "# Example usage:\n",
        "if __name__ == \"__main__\":\n",
        "    # Initialize the Generator with the appropriate parameters\n",
        "    model_path = './gcn_first.pth'\n",
        "    candidate_set = ['C.4', 'N.4', 'O.2', 'F.1', 'I.1', 'Cl.1', 'Br.1']\n",
        "    g = Generator(model_path=model_path, C=candidate_set, nfeat=7, c=0, start=0, max_nodes = 10)\n",
        "\n",
        "    # Train the generator\n",
        "    train_generator(g, num_episodes=100, max_gen_step=15, learning_rate=0.01)\n"
      ],
      "metadata": {
        "id": "0-EdO52cEscM",
        "outputId": "3e7656df-5126-49c1-a136-71acb114ed75",
        "colab": {
          "base_uri": "https://localhost:8080/"
        }
      },
      "execution_count": 222,
      "outputs": [
        {
          "output_type": "stream",
          "name": "stderr",
          "text": [
            "<ipython-input-162-ebc6f2e7a077>:39: FutureWarning:\n",
            "\n",
            "You are using `torch.load` with `weights_only=False` (the current default value), which uses the default pickle module implicitly. It is possible to construct malicious pickle data which will execute arbitrary code during unpickling (See https://github.com/pytorch/pytorch/blob/main/SECURITY.md#untrusted-models for more details). In a future release, the default value for `weights_only` will be flipped to `True`. This limits the functions that could be executed during unpickling. Arbitrary objects will no longer be allowed to be loaded via this mode unless they are explicitly allowlisted by the user via `torch.serialization.add_safe_globals`. We recommend you start setting `weights_only=True` for any use case where you don't have full control of the loaded file. Please open an issue on GitHub for any issues related to this experimental feature.\n",
            "\n"
          ]
        },
        {
          "output_type": "stream",
          "name": "stdout",
          "text": [
            "Episode 0/100, mean Loss: 0.35809895396232605, Mean_Reward: 0.39561107754707336\n",
            "Episode 10/100, mean Loss: 0.0139487124979496, Mean_Reward: 0.4814787805080414\n",
            "Episode 20/100, mean Loss: -0.2778147757053375, Mean_Reward: -0.4560522437095642\n",
            "Episode 30/100, mean Loss: -0.42045968770980835, Mean_Reward: -0.5134824514389038\n",
            "Episode 40/100, mean Loss: -0.43299204111099243, Mean_Reward: -0.13139085471630096\n",
            "Episode 50/100, mean Loss: -0.015922028571367264, Mean_Reward: -0.30952826142311096\n",
            "Episode 60/100, mean Loss: -0.011573750525712967, Mean_Reward: -0.11968439817428589\n",
            "Episode 70/100, mean Loss: 0.007048135623335838, Mean_Reward: 0.0008688704110682011\n",
            "Episode 80/100, mean Loss: -0.12776559591293335, Mean_Reward: -0.33170759677886963\n",
            "Episode 90/100, mean Loss: -0.011058233678340912, Mean_Reward: -0.1980314403772354\n",
            "Training complete.\n"
          ]
        }
      ]
    },
    {
      "cell_type": "code",
      "source": [
        "#@title Generate and draw graph\n",
        "import networkx as nx\n",
        "import matplotlib.pyplot as plt\n",
        "import torch\n",
        "import copy\n",
        "\n",
        "# Function to generate and draw a graph using the generator\n",
        "def generate_and_draw_graph(generator, candidate_set, max_gen_step=8):\n",
        "    # Initialize the graph\n",
        "    generator.reset_graph()\n",
        "\n",
        "    for _ in range(max_gen_step):\n",
        "        G = copy.deepcopy(generator.G)\n",
        "        # Generate the next step in the graph\n",
        "        _, _, _, _, G_t_1 = generator(G)\n",
        "        reward = generator.calculate_reward(G_t_1)\n",
        "        print(reward.item())\n",
        "        if reward >= 0:\n",
        "           generator.G = G_t_1\n",
        "\n",
        "    print(f\"Violate Rules: {generator.check_graph_rules(generator.G)}\")\n",
        "\n",
        "    # Convert the generated graph to a NetworkX graph\n",
        "    G = generator.G\n",
        "    edge_index = G['edge_index']\n",
        "    G_nx = nx.Graph()\n",
        "    edges = edge_index.t().tolist()\n",
        "\n",
        "    # Adding edges with weights divided by 2 for undirected graph\n",
        "    edge_count = {}\n",
        "    for u, v in edges:\n",
        "        edge = tuple(sorted((u, v)))  # Sort to ensure undirected edge representation\n",
        "        if edge in edge_count:\n",
        "            edge_count[edge] += 1\n",
        "        else:\n",
        "            edge_count[edge] = 1\n",
        "\n",
        "    for (u, v), count in edge_count.items():\n",
        "        G_nx.add_edge(u, v, weight=count / 2)  # Divide weight by 2 for undirected graph\n",
        "\n",
        "    # Layout for visualization\n",
        "    layout = nx.spring_layout(G_nx)\n",
        "\n",
        "    # Get the node coloring from G_t_1 features\n",
        "    coloring = torch.argmax(G['feat'], dim=1).numpy()\n",
        "    colors = ['b', 'g', 'r', 'c', 'm', 'y', 'k']\n",
        "\n",
        "    # Draw nodes with different colors based on their labels\n",
        "    for i in range(len(colors)):\n",
        "        nx.draw_networkx_nodes(\n",
        "            G_nx, pos=layout,\n",
        "            nodelist=[x for x in G_nx.nodes() if coloring[x] == i],\n",
        "            node_color=colors[i]\n",
        "        )\n",
        "        nx.draw_networkx_labels(\n",
        "            G_nx, pos=layout,\n",
        "            labels={x: candidate_set[i].split('.')[0] for x in G_nx.nodes() if coloring[x] == i}\n",
        "        )\n",
        "\n",
        "    # Draw edges and annotate with weights\n",
        "    nx.draw_networkx_edges(G_nx, pos=layout, edge_color='gray')\n",
        "    edge_labels = {(u, v): f\"{G_nx[u][v]['weight']:.1f}\" for u, v in G_nx.edges()}\n",
        "    nx.draw_networkx_edge_labels(G_nx, pos=layout, edge_labels=edge_labels)\n",
        "\n",
        "    # Show the graph\n",
        "    plt.show()\n",
        "\n",
        "    preds = torch.nn.functional.softmax(generator.model(G['feat'], G['edge_index']), dim=1)\n",
        "    print('c=0 prediction: ', f'{preds[0][0].item():.4f}', 'c=1 prediction: ', f'{preds[0][1].item():.4f}')\n"
      ],
      "metadata": {
        "id": "jI3wqYxGwLLw",
        "cellView": "form"
      },
      "execution_count": 223,
      "outputs": []
    },
    {
      "cell_type": "code",
      "source": [
        "generate_and_draw_graph(g, candidate_set, max_gen_step=15)"
      ],
      "metadata": {
        "id": "M1qXq53LwhPx",
        "outputId": "6dee0765-f366-46fe-adb9-3d0ccfed8f20",
        "colab": {
          "base_uri": "https://localhost:8080/",
          "height": 710
        }
      },
      "execution_count": 226,
      "outputs": [
        {
          "output_type": "stream",
          "name": "stdout",
          "text": [
            "0.020918309688568115\n",
            "0.9989609718322754\n",
            "0.924055814743042\n",
            "0.813789963722229\n",
            "0.2332589328289032\n",
            "-0.03083169460296631\n",
            "-1.9476478099822998\n",
            "-1.582373023033142\n",
            "0.6347751021385193\n",
            "-1.0169782638549805\n",
            "0.9568499326705933\n",
            "-1.0054951906204224\n",
            "-1.0069751739501953\n",
            "-1.0083229541778564\n",
            "0.9814519882202148\n",
            "Violate Rules: 0\n"
          ]
        },
        {
          "output_type": "display_data",
          "data": {
            "text/plain": [
              "<Figure size 640x480 with 1 Axes>"
            ],
            "image/png": "[encoded data removed]"
          },
          "metadata": {}
        },
        {
          "output_type": "stream",
          "name": "stdout",
          "text": [
            "c=0 prediction:  0.9816 c=1 prediction:  0.0184\n"
          ]
        }
      ]
    },
    {
      "cell_type": "code",
      "source": [
        " print(f\"Violate Rules: {g.check_graph_rules(g.G)}\")\n",
        " g.G"
      ],
      "metadata": {
        "id": "onC6aJPELV2M",
        "outputId": "ed72ad80-6b08-4556-878c-4d5a47ec4db8",
        "colab": {
          "base_uri": "https://localhost:8080/"
        }
      },
      "execution_count": 191,
      "outputs": [
        {
          "output_type": "stream",
          "name": "stdout",
          "text": [
            "Violate Rules: 0\n"
          ]
        },
        {
          "output_type": "execute_result",
          "data": {
            "text/plain": [
              "{'feat': tensor([[0., 0., 0., 0., 0., 0., 1.],\n",
              "         [0., 1., 0., 0., 0., 0., 0.],\n",
              "         [1., 0., 0., 0., 0., 0., 0.],\n",
              "         [0., 1., 0., 0., 0., 0., 0.],\n",
              "         [0., 1., 0., 0., 0., 0., 0.]]),\n",
              " 'edge_index': tensor([[0, 1, 1, 2, 2, 3, 2, 4],\n",
              "         [1, 0, 2, 1, 3, 2, 4, 2]]),\n",
              " 'num_nodes': 5,\n",
              " 'degrees': tensor([1, 2, 3, 1, 1])}"
            ]
          },
          "metadata": {},
          "execution_count": 191
        }
      ]
    },
    {
      "cell_type": "markdown",
      "source": [
        "### TEST"
      ],
      "metadata": {
        "id": "iyczD_VhqLWP"
      }
    },
    {
      "cell_type": "code",
      "source": [
        "from Load_dataset import load_split_MUTAG_data, accuracy\n",
        "from Model import GCN\n",
        "import time\n",
        "\n",
        "import numpy as np\n",
        "import torch\n",
        "import torch.optim as optim\n",
        "import torch.nn.functional as F\n",
        "\n",
        "model_path = 'model/gcn_first.pth'\n",
        "\n",
        "if __name__ == '__main__':\n",
        "    adj_list, features_list, graph_labels, idx_map, idx_train, idx_val, idx_test = load_split_MUTAG_data()\n",
        "    model = GCN(nfeat=features_list[0].shape[1],  # nfeat = 7\n",
        "                nclass=graph_labels.max().item() + 1,  # nclass = 2\n",
        "                dropout=0.1)\n",
        "\n",
        "    model.eval()\n",
        "    outputs = []\n",
        "    for i in idx_test:\n",
        "        output = model(features_list[i], adj_list[i])\n",
        "        output = output.unsqueeze(0)\n",
        "        outputs.append(output)\n",
        "    output = torch.cat(outputs, dim=0)\n",
        "\n",
        "    loss_test = F.cross_entropy(output, graph_labels[idx_test])\n",
        "    acc_test = accuracy(output, graph_labels[idx_test])\n",
        "    print(loss_test)\n",
        "    print(acc_test)"
      ],
      "metadata": {
        "colab": {
          "base_uri": "https://localhost:8080/",
          "height": 394
        },
        "id": "6poe4hoUqMWr",
        "outputId": "815edafd-d8a1-46e8-df57-d8933edada84"
      },
      "execution_count": null,
      "outputs": [
        {
          "output_type": "error",
          "ename": "ModuleNotFoundError",
          "evalue": "No module named 'Load_dataset'",
          "traceback": [
            "\u001b[0;31m---------------------------------------------------------------------------\u001b[0m",
            "\u001b[0;31mModuleNotFoundError\u001b[0m                       Traceback (most recent call last)",
            "\u001b[0;32m<ipython-input-21-11e0ad6d56c0>\u001b[0m in \u001b[0;36m<cell line: 1>\u001b[0;34m()\u001b[0m\n\u001b[0;32m----> 1\u001b[0;31m \u001b[0;32mfrom\u001b[0m \u001b[0mLoad_dataset\u001b[0m \u001b[0;32mimport\u001b[0m \u001b[0mload_split_MUTAG_data\u001b[0m\u001b[0;34m,\u001b[0m \u001b[0maccuracy\u001b[0m\u001b[0;34m\u001b[0m\u001b[0;34m\u001b[0m\u001b[0m\n\u001b[0m\u001b[1;32m      2\u001b[0m \u001b[0;32mfrom\u001b[0m \u001b[0mModel\u001b[0m \u001b[0;32mimport\u001b[0m \u001b[0mGCN\u001b[0m\u001b[0;34m\u001b[0m\u001b[0;34m\u001b[0m\u001b[0m\n\u001b[1;32m      3\u001b[0m \u001b[0;32mimport\u001b[0m \u001b[0mtime\u001b[0m\u001b[0;34m\u001b[0m\u001b[0;34m\u001b[0m\u001b[0m\n\u001b[1;32m      4\u001b[0m \u001b[0;34m\u001b[0m\u001b[0m\n\u001b[1;32m      5\u001b[0m \u001b[0;32mimport\u001b[0m \u001b[0mnumpy\u001b[0m \u001b[0;32mas\u001b[0m \u001b[0mnp\u001b[0m\u001b[0;34m\u001b[0m\u001b[0;34m\u001b[0m\u001b[0m\n",
            "\u001b[0;31mModuleNotFoundError\u001b[0m: No module named 'Load_dataset'",
            "",
            "\u001b[0;31m---------------------------------------------------------------------------\u001b[0;32m\nNOTE: If your import is failing due to a missing package, you can\nmanually install dependencies using either !pip or !apt.\n\nTo view examples of installing some common dependencies, click the\n\"Open Examples\" button below.\n\u001b[0;31m---------------------------------------------------------------------------\u001b[0m\n"
          ],
          "errorDetails": {
            "actions": [
              {
                "action": "open_url",
                "actionText": "Open Examples",
                "url": "/notebooks/snippets/importing_libraries.ipynb"
              }
            ]
          }
        }
      ]
    }
  ]
}